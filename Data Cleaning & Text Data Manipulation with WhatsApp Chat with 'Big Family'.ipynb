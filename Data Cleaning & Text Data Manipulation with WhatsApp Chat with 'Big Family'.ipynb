{
 "cells": [
  {
   "cell_type": "markdown",
   "metadata": {},
   "source": [
    "# Data Cleaning e.g. - chat history\n",
    "#### Showcasing data processing & analytics skills on text data, with WhatsApp chat data with \"Big Family\" group \n",
    "### Therefore, BE OPEN-MINDED & OBJECTIVE with the contents while taking nothing personal.\n",
    "\n",
    "### !!!!!! There were bugs in WhatsApp chat history formatting, dates & message contents have been preprocessed by following steps,\n",
    "#### - \"replace\" function in txt file, e.g. \"1/1/2022\" ➔ \"01/01/2022\"\n",
    "#### - \"replace\" function in MS word (Ctrl+h), mainly replace ^p* (new line)  with * to combine msg contents\n",
    "\n",
    "### Also, for privacy reasons, usernames(in both username columns & message content) have been sensored, e.g., \n",
    "#### - \"+852 9169 9169\" ➔ '+852 91** **69' &\n",
    "#### - \"Joe Biden\" ➔ \"Jo*  **den\"\n",
    "#### - \"Vladimir Putin\" ➔ \"VladP.\""
   ]
  },
  {
   "cell_type": "code",
   "execution_count": 1,
   "metadata": {
    "collapsed": true
   },
   "outputs": [
    {
     "name": "stderr",
     "output_type": "stream",
     "text": [
      "Duplicate key in file WindowsPath('C:/anaconda3/lib/site-packages/matplotlib/mpl-data/matplotlibrc'), line 259 ('font.sans-serif:  SimHei, DejaVu Sans, Bitstream Vera Sans, Computer Modern Sans Serif, Lucida Grande, Verdana, Geneva, Lucid, Arial, Helvetica, Avant Garde, sans-serif')\n",
      "Duplicate key in file WindowsPath('C:/anaconda3/lib/site-packages/matplotlib/mpl-data/matplotlibrc'), line 402 ('axes.unicode_minus: False  # use Unicode for the minus symbol rather than hyphen.  See')\n"
     ]
    }
   ],
   "source": [
    "# import packages needed\n",
    "import numpy as np\n",
    "import pandas as pd\n",
    "import matplotlib.pyplot as plt\n",
    "import seaborn as sns\n",
    "%matplotlib inline\n",
    "\n",
    "# when working with chinese words, solves encoding prob.\n",
    "plt.rcParams['font.sans-serif'] = ['SimHei']\n",
    "# solves graphs axes negative signs prob.\n",
    "plt.rcParams['axes.unicode_minus'] = False "
   ]
  },
  {
   "cell_type": "markdown",
   "metadata": {},
   "source": [
    "## 1. Read and manage data"
   ]
  },
  {
   "cell_type": "code",
   "execution_count": 2,
   "metadata": {},
   "outputs": [],
   "source": [
    "# default encoding type = 'cp936', i.e. gb2312 format\n",
    "# open with 'with', fill will close without needing you to use 'close' command\n",
    "file_to_be_read='WhatsApp Chat with Big Family - processed.txt'\n",
    "with open(file_to_be_read,mode='r',encoding='utf-8-sig') as file:\n",
    "    data=file.read()"
   ]
  },
  {
   "cell_type": "code",
   "execution_count": 4,
   "metadata": {},
   "outputs": [
    {
     "data": {
      "text/plain": [
       "'23/10/21, 15:50 - Ja**y: <Media omitted>\\n23/10/21, 15:50 - Ja**y: VID-20211023-WA0022.mp4 (file attached)\\n23/10/21, 15:52 - +852 90** **85: 嘩一家大小去吊佢返屋企咀佢😋😋\\n23/10/21, 15:53 - +852 90** **85: 記住带爺爺同我去吊魚呀😉\\n23/10/21, 17:17 - Wi**: 嘩，好大條魚啊🐠！豐富的收穫👏🏻👏🏻\\n23/10/21, 17:22 - +852 91** **44: 青衣仔要清蒸后，攤凍肉質才實，好味\\n23'"
      ]
     },
     "execution_count": 4,
     "metadata": {},
     "output_type": "execute_result"
    }
   ],
   "source": [
    "data[:300]"
   ]
  },
  {
   "cell_type": "code",
   "execution_count": 5,
   "metadata": {},
   "outputs": [],
   "source": [
    "# split by '\\n', and make data into a list\n",
    "data1 = data.split('\\n')"
   ]
  },
  {
   "cell_type": "code",
   "execution_count": 6,
   "metadata": {},
   "outputs": [
    {
     "data": {
      "text/plain": [
       "358"
      ]
     },
     "execution_count": 6,
     "metadata": {},
     "output_type": "execute_result"
    }
   ],
   "source": [
    "len(data1)"
   ]
  },
  {
   "cell_type": "code",
   "execution_count": 7,
   "metadata": {},
   "outputs": [
    {
     "data": {
      "text/plain": [
       "['23/12/21, 16:06 - +852 90** **85: <Media omitted>',\n",
       " '23/12/21, 16:10 - Mum: Yuen Y，今天天氣郊遊最合宜。👍👍',\n",
       " '23/12/21, 16:11 - +852 90** **85: PTT-20211223-WA0000.opus (file attached)',\n",
       " '23/12/21, 16:17 - Mum: 非常好！👏👏',\n",
       " '23/12/21, 16:42 - +852 98** **07: 😆咁叻～',\n",
       " '23/12/21, 17:03 - +852 90** **85: <Media omitted>',\n",
       " '23/12/21, 17:03 - +852 90** **85: <Media omitted>',\n",
       " '23/12/21, 17:03 - +852 90** **85: <Media omitted>',\n",
       " '23/12/21, 17:06 - Wi**: Uncle、Auntie親親大自然🌳🌲☘️🍀🌿🌱，身心舒暢😌👫',\n",
       " '23/12/21, 17:15 - +852 90** **85: 🥰🥰']"
      ]
     },
     "execution_count": 7,
     "metadata": {},
     "output_type": "execute_result"
    }
   ],
   "source": [
    "# check appearance of data1\n",
    "# can come back & change 'start' & 'end' variables for use in later stages\n",
    "start=85\n",
    "end=95\n",
    "data1[start:end]"
   ]
  },
  {
   "cell_type": "code",
   "execution_count": null,
   "metadata": {},
   "outputs": [],
   "source": [
    "'''\n",
    "# extract all non-empty contents starting with dates, \n",
    "# may be useful for other untidy data but not in this case\n",
    "content=[]\n",
    "\n",
    "# for i in data1:\n",
    "#     after_strip=i.strip()\n",
    "#     if after_strip=='':\n",
    "#         continue\n",
    "#     content.append(after_strip)\n",
    "    \n",
    "for i,j in enumerate(data1):\n",
    "    after_strip=j.strip() # same as strip() function in excel\n",
    "    if after_strip=='': # filter empty rows\n",
    "        continue\n",
    "    content.append(after_strip)\n",
    "'''"
   ]
  },
  {
   "cell_type": "code",
   "execution_count": null,
   "metadata": {},
   "outputs": [],
   "source": [
    "'''\n",
    "# check uncertified rows\n",
    "n=0 # row no.\n",
    "for i in data1:\n",
    "    if i.strip()=='':\n",
    "        n=n+1\n",
    "        print(i)\n",
    "        print('*'*10)\n",
    "'''"
   ]
  },
  {
   "cell_type": "markdown",
   "metadata": {},
   "source": [
    "## 2. Extract dates, usernames, chat content respectively"
   ]
  },
  {
   "cell_type": "code",
   "execution_count": 8,
   "metadata": {},
   "outputs": [
    {
     "name": "stdout",
     "output_type": "stream",
     "text": [
      "15\n",
      "18\n"
     ]
    }
   ],
   "source": [
    "# find desired slicing position of strings\n",
    "char=' - '\n",
    "slice_a=data1[start].find(char)\n",
    "slice_b=data1[end].rfind(char)+len(char)\n",
    "print(slice_a)\n",
    "print(slice_b)"
   ]
  },
  {
   "cell_type": "code",
   "execution_count": 9,
   "metadata": {},
   "outputs": [],
   "source": [
    "# split rows into date&time & subset for name\n",
    "date_time=[i.split(': ')[0][:slice_a]for i in data1]\n",
    "name=[i.split(': ')[0][slice_b:]for i in data1]\n",
    "chat=[i.split(': ')[1:] for i in data1]"
   ]
  },
  {
   "cell_type": "code",
   "execution_count": 10,
   "metadata": {},
   "outputs": [
    {
     "name": "stdout",
     "output_type": "stream",
     "text": [
      "358\n",
      "358\n",
      "358\n"
     ]
    }
   ],
   "source": [
    "print(len(date_time))\n",
    "print(len(name))\n",
    "print(len(chat))"
   ]
  },
  {
   "cell_type": "code",
   "execution_count": 11,
   "metadata": {},
   "outputs": [
    {
     "data": {
      "text/plain": [
       "['23/12/21, 16:06',\n",
       " '23/12/21, 16:10',\n",
       " '23/12/21, 16:11',\n",
       " '23/12/21, 16:17',\n",
       " '23/12/21, 16:42',\n",
       " '23/12/21, 17:03',\n",
       " '23/12/21, 17:03',\n",
       " '23/12/21, 17:03',\n",
       " '23/12/21, 17:06',\n",
       " '23/12/21, 17:15']"
      ]
     },
     "metadata": {},
     "output_type": "display_data"
    },
    {
     "data": {
      "text/plain": [
       "['+852 90** **85',\n",
       " 'Mum',\n",
       " '+852 90** **85',\n",
       " 'Mum',\n",
       " '+852 98** **07',\n",
       " '+852 90** **85',\n",
       " '+852 90** **85',\n",
       " '+852 90** **85',\n",
       " 'Wi**',\n",
       " '+852 90** **85']"
      ]
     },
     "metadata": {},
     "output_type": "display_data"
    },
    {
     "data": {
      "text/plain": [
       "[['<Media omitted>'],\n",
       " ['Yuen Y，今天天氣郊遊最合宜。👍👍'],\n",
       " ['PTT-20211223-WA0000.opus (file attached)'],\n",
       " ['非常好！👏👏'],\n",
       " ['😆咁叻～'],\n",
       " ['<Media omitted>'],\n",
       " ['<Media omitted>'],\n",
       " ['<Media omitted>'],\n",
       " ['Uncle、Auntie親親大自然🌳🌲☘️🍀🌿🌱，身心舒暢😌👫'],\n",
       " ['🥰🥰']]"
      ]
     },
     "metadata": {},
     "output_type": "display_data"
    }
   ],
   "source": [
    "# check results\n",
    "display(date_time[start:end],name[start:end],chat[start:end])"
   ]
  },
  {
   "cell_type": "markdown",
   "metadata": {},
   "source": [
    "## !!. Further processing on usernames\n",
    "#### !!!!!!!!!!!!! just to show case knowledge, for privacy reason, have completed processing in .txt file rather than here"
   ]
  },
  {
   "cell_type": "code",
   "execution_count": null,
   "metadata": {},
   "outputs": [],
   "source": [
    "'''\n",
    "name_sen=[]\n",
    "for i in name:\n",
    "    if len(i)==14: # HK no.\n",
    "        j=i.replace(i[7:12],'** **')\n",
    "    elif len(i)==4 or len(i)==5: # names\n",
    "        j=i.replace(i[2:4],'**')\n",
    "    elif len(i)==17: # Mainland China no.\n",
    "        j=i.replace(i[6:14],'* **** *')\n",
    "    elif len(i)==15: # AU no.\n",
    "        j=i.replace(i[6:13],'* *** *')\n",
    "    elif len(i)==12: # a special case\n",
    "        j=i.replace(i[3:10],'**** **')\n",
    "    else: # see if anything missed\n",
    "        j=i\n",
    "    name_sen.append(j)\n",
    "'''"
   ]
  },
  {
   "cell_type": "markdown",
   "metadata": {},
   "source": [
    "## 3. Create DataFrame for date, usernames & chat contents"
   ]
  },
  {
   "cell_type": "code",
   "execution_count": 12,
   "metadata": {},
   "outputs": [],
   "source": [
    "# make dataframe using 3 lists, either way\n",
    "# df_chat=pd.DataFrame([date_time,name,chat],index=['Date & Time','Username','Message Content']).T\n",
    "df_chat=pd.DataFrame({'Date & Time':date_time,'Username':name,'Message Content':chat})"
   ]
  },
  {
   "cell_type": "code",
   "execution_count": 13,
   "metadata": {},
   "outputs": [
    {
     "data": {
      "text/html": [
       "<div>\n",
       "<style scoped>\n",
       "    .dataframe tbody tr th:only-of-type {\n",
       "        vertical-align: middle;\n",
       "    }\n",
       "\n",
       "    .dataframe tbody tr th {\n",
       "        vertical-align: top;\n",
       "    }\n",
       "\n",
       "    .dataframe thead th {\n",
       "        text-align: right;\n",
       "    }\n",
       "</style>\n",
       "<table border=\"1\" class=\"dataframe\">\n",
       "  <thead>\n",
       "    <tr style=\"text-align: right;\">\n",
       "      <th></th>\n",
       "      <th>Date &amp; Time</th>\n",
       "      <th>Username</th>\n",
       "      <th>Message Content</th>\n",
       "    </tr>\n",
       "  </thead>\n",
       "  <tbody>\n",
       "    <tr>\n",
       "      <th>85</th>\n",
       "      <td>23/12/21, 16:06</td>\n",
       "      <td>+852 90** **85</td>\n",
       "      <td>[&lt;Media omitted&gt;]</td>\n",
       "    </tr>\n",
       "    <tr>\n",
       "      <th>86</th>\n",
       "      <td>23/12/21, 16:10</td>\n",
       "      <td>Mum</td>\n",
       "      <td>[Yuen Y，今天天氣郊遊最合宜。👍👍]</td>\n",
       "    </tr>\n",
       "    <tr>\n",
       "      <th>87</th>\n",
       "      <td>23/12/21, 16:11</td>\n",
       "      <td>+852 90** **85</td>\n",
       "      <td>[PTT-20211223-WA0000.opus (file attached)]</td>\n",
       "    </tr>\n",
       "    <tr>\n",
       "      <th>88</th>\n",
       "      <td>23/12/21, 16:17</td>\n",
       "      <td>Mum</td>\n",
       "      <td>[非常好！👏👏]</td>\n",
       "    </tr>\n",
       "    <tr>\n",
       "      <th>89</th>\n",
       "      <td>23/12/21, 16:42</td>\n",
       "      <td>+852 98** **07</td>\n",
       "      <td>[😆咁叻～]</td>\n",
       "    </tr>\n",
       "    <tr>\n",
       "      <th>90</th>\n",
       "      <td>23/12/21, 17:03</td>\n",
       "      <td>+852 90** **85</td>\n",
       "      <td>[&lt;Media omitted&gt;]</td>\n",
       "    </tr>\n",
       "    <tr>\n",
       "      <th>91</th>\n",
       "      <td>23/12/21, 17:03</td>\n",
       "      <td>+852 90** **85</td>\n",
       "      <td>[&lt;Media omitted&gt;]</td>\n",
       "    </tr>\n",
       "    <tr>\n",
       "      <th>92</th>\n",
       "      <td>23/12/21, 17:03</td>\n",
       "      <td>+852 90** **85</td>\n",
       "      <td>[&lt;Media omitted&gt;]</td>\n",
       "    </tr>\n",
       "    <tr>\n",
       "      <th>93</th>\n",
       "      <td>23/12/21, 17:06</td>\n",
       "      <td>Wi**</td>\n",
       "      <td>[Uncle、Auntie親親大自然🌳🌲☘️🍀🌿🌱，身心舒暢😌👫]</td>\n",
       "    </tr>\n",
       "    <tr>\n",
       "      <th>94</th>\n",
       "      <td>23/12/21, 17:15</td>\n",
       "      <td>+852 90** **85</td>\n",
       "      <td>[🥰🥰]</td>\n",
       "    </tr>\n",
       "  </tbody>\n",
       "</table>\n",
       "</div>"
      ],
      "text/plain": [
       "        Date & Time        Username  \\\n",
       "85  23/12/21, 16:06  +852 90** **85   \n",
       "86  23/12/21, 16:10             Mum   \n",
       "87  23/12/21, 16:11  +852 90** **85   \n",
       "88  23/12/21, 16:17             Mum   \n",
       "89  23/12/21, 16:42  +852 98** **07   \n",
       "90  23/12/21, 17:03  +852 90** **85   \n",
       "91  23/12/21, 17:03  +852 90** **85   \n",
       "92  23/12/21, 17:03  +852 90** **85   \n",
       "93  23/12/21, 17:06            Wi**   \n",
       "94  23/12/21, 17:15  +852 90** **85   \n",
       "\n",
       "                               Message Content  \n",
       "85                           [<Media omitted>]  \n",
       "86                       [Yuen Y，今天天氣郊遊最合宜。👍👍]  \n",
       "87  [PTT-20211223-WA0000.opus (file attached)]  \n",
       "88                                    [非常好！👏👏]  \n",
       "89                                      [😆咁叻～]  \n",
       "90                           [<Media omitted>]  \n",
       "91                           [<Media omitted>]  \n",
       "92                           [<Media omitted>]  \n",
       "93           [Uncle、Auntie親親大自然🌳🌲☘️🍀🌿🌱，身心舒暢😌👫]  \n",
       "94                                        [🥰🥰]  "
      ]
     },
     "execution_count": 13,
     "metadata": {},
     "output_type": "execute_result"
    }
   ],
   "source": [
    "df_chat[start:end]"
   ]
  },
  {
   "cell_type": "markdown",
   "metadata": {},
   "source": [
    "## 4. Data Manipulation & Exploratory Analysis"
   ]
  },
  {
   "cell_type": "code",
   "execution_count": 14,
   "metadata": {},
   "outputs": [
    {
     "name": "stdout",
     "output_type": "stream",
     "text": [
      "<class 'pandas.core.frame.DataFrame'>\n",
      "RangeIndex: 358 entries, 0 to 357\n",
      "Data columns (total 3 columns):\n",
      " #   Column           Non-Null Count  Dtype \n",
      "---  ------           --------------  ----- \n",
      " 0   Date & Time      358 non-null    object\n",
      " 1   Username         358 non-null    object\n",
      " 2   Message Content  358 non-null    object\n",
      "dtypes: object(3)\n",
      "memory usage: 8.5+ KB\n"
     ]
    },
    {
     "data": {
      "text/plain": [
       "None"
      ]
     },
     "metadata": {},
     "output_type": "display_data"
    },
    {
     "data": {
      "text/plain": [
       "(358, 3)"
      ]
     },
     "metadata": {},
     "output_type": "display_data"
    },
    {
     "data": {
      "text/plain": [
       "Date & Time        0\n",
       "Username           0\n",
       "Message Content    0\n",
       "dtype: int64"
      ]
     },
     "metadata": {},
     "output_type": "display_data"
    }
   ],
   "source": [
    "display(df_chat.info(),df_chat.shape,df_chat.isnull().sum())"
   ]
  },
  {
   "cell_type": "code",
   "execution_count": 15,
   "metadata": {},
   "outputs": [
    {
     "data": {
      "text/plain": [
       "+86 13* **** *929    63\n",
       "+852 90** **85       60\n",
       "+852 93** **27       55\n",
       "Mum                  48\n",
       "Wi**                 42\n",
       "+61 41* *** *24      28\n",
       "Ja**y                28\n",
       "+852 98** **07       17\n",
       "+852 91** **44       13\n",
       "Emi**** **de          3\n",
       "Emi**** **de left     1\n",
       "Name: Username, dtype: int64"
      ]
     },
     "execution_count": 15,
     "metadata": {},
     "output_type": "execute_result"
    }
   ],
   "source": [
    "# frequency of users\n",
    "df_chat['Username'].value_counts()"
   ]
  },
  {
   "cell_type": "code",
   "execution_count": 16,
   "metadata": {},
   "outputs": [],
   "source": [
    "# Convert 'Date & Time' column into 'datetime' format, and rearrange it with strftime, \n",
    "# but will become 'object' type again, will need to convert it into 'datetime' format again\n",
    "import datetime as dt\n",
    "strfttime_format1='%A %d/%m/%Y %H:%M:%S'\n",
    "df_chat['Date & Time']=pd.to_datetime(df_chat['Date & Time'])\n",
    "df_chat['Date & Time']=df_chat['Date & Time'].apply(lambda x: x.strftime(strfttime_format1))"
   ]
  },
  {
   "cell_type": "code",
   "execution_count": 17,
   "metadata": {
    "scrolled": true
   },
   "outputs": [
    {
     "data": {
      "text/plain": [
       "'Friday 02/12/2022 10:14:00'"
      ]
     },
     "execution_count": 17,
     "metadata": {},
     "output_type": "execute_result"
    }
   ],
   "source": [
    "df_chat['Date & Time'].loc[252]"
   ]
  },
  {
   "cell_type": "code",
   "execution_count": 19,
   "metadata": {},
   "outputs": [
    {
     "data": {
      "text/html": [
       "<div>\n",
       "<style scoped>\n",
       "    .dataframe tbody tr th:only-of-type {\n",
       "        vertical-align: middle;\n",
       "    }\n",
       "\n",
       "    .dataframe tbody tr th {\n",
       "        vertical-align: top;\n",
       "    }\n",
       "\n",
       "    .dataframe thead th {\n",
       "        text-align: right;\n",
       "    }\n",
       "</style>\n",
       "<table border=\"1\" class=\"dataframe\">\n",
       "  <thead>\n",
       "    <tr style=\"text-align: right;\">\n",
       "      <th></th>\n",
       "      <th>Date &amp; Time</th>\n",
       "      <th>Username</th>\n",
       "      <th>Message Content</th>\n",
       "    </tr>\n",
       "  </thead>\n",
       "  <tbody>\n",
       "    <tr>\n",
       "      <th>105</th>\n",
       "      <td>Saturday 25/12/2021 13:14:00</td>\n",
       "      <td>+61 41* *** *24</td>\n",
       "      <td>[Merry Christmas 😘😘]</td>\n",
       "    </tr>\n",
       "    <tr>\n",
       "      <th>312</th>\n",
       "      <td>Friday 25/02/2022 09:24:00</td>\n",
       "      <td>+852 90** **85</td>\n",
       "      <td>[大家小心吧]</td>\n",
       "    </tr>\n",
       "    <tr>\n",
       "      <th>324</th>\n",
       "      <td>Saturday 26/02/2022 09:29:00</td>\n",
       "      <td>+86 13* **** *929</td>\n",
       "      <td>[謝謝！]</td>\n",
       "    </tr>\n",
       "    <tr>\n",
       "      <th>151</th>\n",
       "      <td>Wednesday 19/01/2022 09:25:00</td>\n",
       "      <td>+852 93** **27</td>\n",
       "      <td>[🙏🏻]</td>\n",
       "    </tr>\n",
       "    <tr>\n",
       "      <th>290</th>\n",
       "      <td>Sunday 20/02/2022 18:38:00</td>\n",
       "      <td>+86 13* **** *929</td>\n",
       "      <td>[😁]</td>\n",
       "    </tr>\n",
       "    <tr>\n",
       "      <th>325</th>\n",
       "      <td>Saturday 26/02/2022 09:45:00</td>\n",
       "      <td>+852 93** **27</td>\n",
       "      <td>[2022年2月26日 邦聞（靈修分享） 【詩9:1】我要一心稱謝耶和華，傳揚你一切奇妙的作...</td>\n",
       "    </tr>\n",
       "    <tr>\n",
       "      <th>41</th>\n",
       "      <td>Monday 29/11/2021 07:12:00</td>\n",
       "      <td>+852 93** **27</td>\n",
       "      <td>[&lt;Media omitted&gt;]</td>\n",
       "    </tr>\n",
       "    <tr>\n",
       "      <th>279</th>\n",
       "      <td>Friday 18/02/2022 08:25:00</td>\n",
       "      <td>Mum</td>\n",
       "      <td>[🙏🙏   神的話是我們腳前的燈，是我們路上的光。]</td>\n",
       "    </tr>\n",
       "  </tbody>\n",
       "</table>\n",
       "</div>"
      ],
      "text/plain": [
       "                       Date & Time           Username  \\\n",
       "105   Saturday 25/12/2021 13:14:00    +61 41* *** *24   \n",
       "312     Friday 25/02/2022 09:24:00     +852 90** **85   \n",
       "324   Saturday 26/02/2022 09:29:00  +86 13* **** *929   \n",
       "151  Wednesday 19/01/2022 09:25:00     +852 93** **27   \n",
       "290     Sunday 20/02/2022 18:38:00  +86 13* **** *929   \n",
       "325   Saturday 26/02/2022 09:45:00     +852 93** **27   \n",
       "41      Monday 29/11/2021 07:12:00     +852 93** **27   \n",
       "279     Friday 18/02/2022 08:25:00                Mum   \n",
       "\n",
       "                                       Message Content  \n",
       "105                               [Merry Christmas 😘😘]  \n",
       "312                                            [大家小心吧]  \n",
       "324                                              [謝謝！]  \n",
       "151                                               [🙏🏻]  \n",
       "290                                                [😁]  \n",
       "325  [2022年2月26日 邦聞（靈修分享） 【詩9:1】我要一心稱謝耶和華，傳揚你一切奇妙的作...  \n",
       "41                                   [<Media omitted>]  \n",
       "279                         [🙏🙏   神的話是我們腳前的燈，是我們路上的光。]  "
      ]
     },
     "execution_count": 19,
     "metadata": {},
     "output_type": "execute_result"
    }
   ],
   "source": [
    "df_chat.sample(8)"
   ]
  },
  {
   "cell_type": "code",
   "execution_count": 20,
   "metadata": {},
   "outputs": [],
   "source": [
    "# Convert 'Date & Time' column into 'datetime' format again, in desired '%Y/%m/%d %H:%M:%S' format\n",
    "strfttime_format2='%Y/%m/%d %H:%M:%S'\n",
    "df_chat['Date & Time']=pd.to_datetime(df_chat['Date & Time'])\n",
    "df_chat['Date & Time']=df_chat['Date & Time'].apply(lambda x: x.strftime(strfttime_format2))\n",
    "df_chat['Date & Time']=pd.to_datetime(df_chat['Date & Time'])"
   ]
  },
  {
   "cell_type": "code",
   "execution_count": 21,
   "metadata": {},
   "outputs": [
    {
     "data": {
      "text/plain": [
       "Timestamp('2022-02-12 10:14:00')"
      ]
     },
     "execution_count": 21,
     "metadata": {},
     "output_type": "execute_result"
    }
   ],
   "source": [
    "# '2022-02-12' wiill become '2022-12-02' without cconvertion, due to 'auto-americanisation' setting....\n",
    "df_chat['Date & Time'].loc[252]"
   ]
  },
  {
   "cell_type": "code",
   "execution_count": 22,
   "metadata": {},
   "outputs": [],
   "source": [
    "# set 'Date & Time' column as index\n",
    "df_chat1=df_chat.copy()\n",
    "df_chat1.index=df_chat1['Date & Time']\n",
    "df_chat1.drop(['Date & Time'],axis=1,inplace=True)"
   ]
  },
  {
   "cell_type": "code",
   "execution_count": 23,
   "metadata": {},
   "outputs": [
    {
     "name": "stdout",
     "output_type": "stream",
     "text": [
      "<class 'pandas.core.frame.DataFrame'>\n",
      "DatetimeIndex: 358 entries, 2021-10-23 15:50:00 to 2022-03-02 19:05:00\n",
      "Data columns (total 2 columns):\n",
      " #   Column           Non-Null Count  Dtype \n",
      "---  ------           --------------  ----- \n",
      " 0   Username         358 non-null    object\n",
      " 1   Message Content  358 non-null    object\n",
      "dtypes: object(2)\n",
      "memory usage: 8.4+ KB\n"
     ]
    }
   ],
   "source": [
    "df_chat1.info()"
   ]
  },
  {
   "cell_type": "code",
   "execution_count": 24,
   "metadata": {
    "scrolled": true
   },
   "outputs": [
    {
     "data": {
      "text/plain": [
       "Username           +86 13* **** *929\n",
       "Message Content              [👏👍🏻💪😁]\n",
       "Name: 2021-12-23 19:51:00, dtype: object"
      ]
     },
     "execution_count": 24,
     "metadata": {},
     "output_type": "execute_result"
    }
   ],
   "source": [
    "df_chat1.iloc[end]"
   ]
  },
  {
   "cell_type": "markdown",
   "metadata": {},
   "source": [
    "### 4.1 Monthly message counts\n",
    "#### Brief review of distributions"
   ]
  },
  {
   "cell_type": "code",
   "execution_count": 25,
   "metadata": {},
   "outputs": [
    {
     "data": {
      "text/html": [
       "<div>\n",
       "<style scoped>\n",
       "    .dataframe tbody tr th:only-of-type {\n",
       "        vertical-align: middle;\n",
       "    }\n",
       "\n",
       "    .dataframe tbody tr th {\n",
       "        vertical-align: top;\n",
       "    }\n",
       "\n",
       "    .dataframe thead th {\n",
       "        text-align: right;\n",
       "    }\n",
       "</style>\n",
       "<table border=\"1\" class=\"dataframe\">\n",
       "  <thead>\n",
       "    <tr style=\"text-align: right;\">\n",
       "      <th></th>\n",
       "      <th>Username</th>\n",
       "      <th>Message Content</th>\n",
       "    </tr>\n",
       "    <tr>\n",
       "      <th>Date &amp; Time</th>\n",
       "      <th></th>\n",
       "      <th></th>\n",
       "    </tr>\n",
       "  </thead>\n",
       "  <tbody>\n",
       "    <tr>\n",
       "      <th>2021-10-31</th>\n",
       "      <td>32</td>\n",
       "      <td>32</td>\n",
       "    </tr>\n",
       "    <tr>\n",
       "      <th>2021-11-30</th>\n",
       "      <td>20</td>\n",
       "      <td>20</td>\n",
       "    </tr>\n",
       "    <tr>\n",
       "      <th>2021-12-31</th>\n",
       "      <td>72</td>\n",
       "      <td>72</td>\n",
       "    </tr>\n",
       "    <tr>\n",
       "      <th>2022-01-31</th>\n",
       "      <td>76</td>\n",
       "      <td>76</td>\n",
       "    </tr>\n",
       "    <tr>\n",
       "      <th>2022-02-28</th>\n",
       "      <td>149</td>\n",
       "      <td>149</td>\n",
       "    </tr>\n",
       "    <tr>\n",
       "      <th>2022-03-31</th>\n",
       "      <td>9</td>\n",
       "      <td>9</td>\n",
       "    </tr>\n",
       "  </tbody>\n",
       "</table>\n",
       "</div>"
      ],
      "text/plain": [
       "             Username  Message Content\n",
       "Date & Time                           \n",
       "2021-10-31         32               32\n",
       "2021-11-30         20               20\n",
       "2021-12-31         72               72\n",
       "2022-01-31         76               76\n",
       "2022-02-28        149              149\n",
       "2022-03-31          9                9"
      ]
     },
     "execution_count": 25,
     "metadata": {},
     "output_type": "execute_result"
    }
   ],
   "source": [
    "# to explore monthly counts of chats\n",
    "df_chat2=df_chat1.resample('M',convention='start').count()\n",
    "df_chat2"
   ]
  },
  {
   "cell_type": "code",
   "execution_count": 26,
   "metadata": {},
   "outputs": [
    {
     "name": "stderr",
     "output_type": "stream",
     "text": [
      "findfont: Font family ['sans-serif'] not found. Falling back to DejaVu Sans.\n",
      "findfont: Font family ['sans-serif'] not found. Falling back to DejaVu Sans.\n"
     ]
    },
    {
     "data": {
      "image/png": "[encoded data removed]",
      "text/plain": [
       "<Figure size 640x320 with 1 Axes>"
      ]
     },
     "metadata": {
      "needs_background": "light"
     },
     "output_type": "display_data"
    }
   ],
   "source": [
    "# plot monthly frequencies of chats\n",
    "plt.figure(figsize=(8,4),dpi=80)\n",
    "plt.bar(df_chat2.index, df_chat2['Message Content'], width=16)\n",
    "plt.title('Message count by month')\n",
    "plt.show()"
   ]
  },
  {
   "cell_type": "markdown",
   "metadata": {},
   "source": [
    "### 4.2 Message counts by Hours & Day of the week respectively\n",
    "#### To find out popular hours & days"
   ]
  },
  {
   "cell_type": "code",
   "execution_count": 27,
   "metadata": {},
   "outputs": [],
   "source": [
    "# create new columns 'Hours' & 'Day of the week' from 'Date & Time' column, \n",
    "# work out corresponding frequencies\n",
    "df_chat1['Hours']=df_chat1.index\n",
    "df_chat1['Hours']=df_chat1['Hours'].dt.strftime('%H')"
   ]
  },
  {
   "cell_type": "code",
   "execution_count": 28,
   "metadata": {},
   "outputs": [],
   "source": [
    "df_chat1['Day of the week']=df_chat1.index\n",
    "df_chat1['Day of the week']=df_chat1['Day of the week'].apply(lambda x: x.strftime('%A'))"
   ]
  },
  {
   "cell_type": "code",
   "execution_count": 29,
   "metadata": {
    "scrolled": false
   },
   "outputs": [
    {
     "data": {
      "text/html": [
       "<div>\n",
       "<style scoped>\n",
       "    .dataframe tbody tr th:only-of-type {\n",
       "        vertical-align: middle;\n",
       "    }\n",
       "\n",
       "    .dataframe tbody tr th {\n",
       "        vertical-align: top;\n",
       "    }\n",
       "\n",
       "    .dataframe thead th {\n",
       "        text-align: right;\n",
       "    }\n",
       "</style>\n",
       "<table border=\"1\" class=\"dataframe\">\n",
       "  <thead>\n",
       "    <tr style=\"text-align: right;\">\n",
       "      <th></th>\n",
       "      <th>Username</th>\n",
       "      <th>Message Content</th>\n",
       "      <th>Hours</th>\n",
       "      <th>Day of the week</th>\n",
       "    </tr>\n",
       "    <tr>\n",
       "      <th>Date &amp; Time</th>\n",
       "      <th></th>\n",
       "      <th></th>\n",
       "      <th></th>\n",
       "      <th></th>\n",
       "    </tr>\n",
       "  </thead>\n",
       "  <tbody>\n",
       "    <tr>\n",
       "      <th>2021-12-21 09:45:00</th>\n",
       "      <td>Mum</td>\n",
       "      <td>[&lt;Media omitted&gt;]</td>\n",
       "      <td>09</td>\n",
       "      <td>Tuesday</td>\n",
       "    </tr>\n",
       "    <tr>\n",
       "      <th>2022-01-13 11:40:00</th>\n",
       "      <td>Wi**</td>\n",
       "      <td>[&lt;Media omitted&gt;]</td>\n",
       "      <td>11</td>\n",
       "      <td>Thursday</td>\n",
       "    </tr>\n",
       "    <tr>\n",
       "      <th>2022-02-16 09:26:00</th>\n",
       "      <td>+86 13* **** *929</td>\n",
       "      <td>[🙏🙏🙏]</td>\n",
       "      <td>09</td>\n",
       "      <td>Wednesday</td>\n",
       "    </tr>\n",
       "    <tr>\n",
       "      <th>2021-11-25 14:58:00</th>\n",
       "      <td>Wi**</td>\n",
       "      <td>[&lt;Media omitted&gt;]</td>\n",
       "      <td>14</td>\n",
       "      <td>Thursday</td>\n",
       "    </tr>\n",
       "    <tr>\n",
       "      <th>2022-01-07 15:49:00</th>\n",
       "      <td>+852 90** **85</td>\n",
       "      <td>[&lt;Media omitted&gt;]</td>\n",
       "      <td>15</td>\n",
       "      <td>Friday</td>\n",
       "    </tr>\n",
       "    <tr>\n",
       "      <th>2021-12-23 16:00:00</th>\n",
       "      <td>+852 90** **85</td>\n",
       "      <td>[&lt;Media omitted&gt;]</td>\n",
       "      <td>16</td>\n",
       "      <td>Thursday</td>\n",
       "    </tr>\n",
       "    <tr>\n",
       "      <th>2022-02-25 12:32:00</th>\n",
       "      <td>+86 13* **** *929</td>\n",
       "      <td>[🙏🙏🙏]</td>\n",
       "      <td>12</td>\n",
       "      <td>Friday</td>\n",
       "    </tr>\n",
       "    <tr>\n",
       "      <th>2021-10-23 17:38:00</th>\n",
       "      <td>+86 13* **** *929</td>\n",
       "      <td>[Seb.C，Gab.C好叻！😁👍🏻💪]</td>\n",
       "      <td>17</td>\n",
       "      <td>Saturday</td>\n",
       "    </tr>\n",
       "  </tbody>\n",
       "</table>\n",
       "</div>"
      ],
      "text/plain": [
       "                              Username       Message Content Hours  \\\n",
       "Date & Time                                                          \n",
       "2021-12-21 09:45:00                Mum     [<Media omitted>]    09   \n",
       "2022-01-13 11:40:00               Wi**     [<Media omitted>]    11   \n",
       "2022-02-16 09:26:00  +86 13* **** *929                 [🙏🙏🙏]    09   \n",
       "2021-11-25 14:58:00               Wi**     [<Media omitted>]    14   \n",
       "2022-01-07 15:49:00     +852 90** **85     [<Media omitted>]    15   \n",
       "2021-12-23 16:00:00     +852 90** **85     [<Media omitted>]    16   \n",
       "2022-02-25 12:32:00  +86 13* **** *929                 [🙏🙏🙏]    12   \n",
       "2021-10-23 17:38:00  +86 13* **** *929  [Seb.C，Gab.C好叻！😁👍🏻💪]    17   \n",
       "\n",
       "                    Day of the week  \n",
       "Date & Time                          \n",
       "2021-12-21 09:45:00         Tuesday  \n",
       "2022-01-13 11:40:00        Thursday  \n",
       "2022-02-16 09:26:00       Wednesday  \n",
       "2021-11-25 14:58:00        Thursday  \n",
       "2022-01-07 15:49:00          Friday  \n",
       "2021-12-23 16:00:00        Thursday  \n",
       "2022-02-25 12:32:00          Friday  \n",
       "2021-10-23 17:38:00        Saturday  "
      ]
     },
     "execution_count": 29,
     "metadata": {},
     "output_type": "execute_result"
    }
   ],
   "source": [
    "df_chat1.sample(8)"
   ]
  },
  {
   "cell_type": "code",
   "execution_count": 30,
   "metadata": {},
   "outputs": [],
   "source": [
    "# create a dataframe that shows message count by hour\n",
    "hour_msg_count=df_chat1.groupby(['Hours'],as_index=False)['Message Content'].count()\n",
    "hour_msg_count.rename(columns={'Message Content':'Message count'}, inplace=True)"
   ]
  },
  {
   "cell_type": "code",
   "execution_count": 31,
   "metadata": {},
   "outputs": [],
   "source": [
    "# create a dataframe that shows message count by day of the week & user\n",
    "week_user_msg_count=df_chat1.groupby(['Day of the week','Username'],as_index=False)['Message Content'].count()\n",
    "week_user_msg_count.rename(columns={'Message Content':'Message count'}, inplace=True)"
   ]
  },
  {
   "cell_type": "code",
   "execution_count": 32,
   "metadata": {},
   "outputs": [
    {
     "data": {
      "text/html": [
       "<div>\n",
       "<style scoped>\n",
       "    .dataframe tbody tr th:only-of-type {\n",
       "        vertical-align: middle;\n",
       "    }\n",
       "\n",
       "    .dataframe tbody tr th {\n",
       "        vertical-align: top;\n",
       "    }\n",
       "\n",
       "    .dataframe thead th {\n",
       "        text-align: right;\n",
       "    }\n",
       "</style>\n",
       "<table border=\"1\" class=\"dataframe\">\n",
       "  <thead>\n",
       "    <tr style=\"text-align: right;\">\n",
       "      <th></th>\n",
       "      <th>Message count</th>\n",
       "    </tr>\n",
       "    <tr>\n",
       "      <th>Day of the week</th>\n",
       "      <th></th>\n",
       "    </tr>\n",
       "  </thead>\n",
       "  <tbody>\n",
       "    <tr>\n",
       "      <th>Friday</th>\n",
       "      <td>48</td>\n",
       "    </tr>\n",
       "    <tr>\n",
       "      <th>Monday</th>\n",
       "      <td>35</td>\n",
       "    </tr>\n",
       "    <tr>\n",
       "      <th>Saturday</th>\n",
       "      <td>70</td>\n",
       "    </tr>\n",
       "    <tr>\n",
       "      <th>Sunday</th>\n",
       "      <td>38</td>\n",
       "    </tr>\n",
       "    <tr>\n",
       "      <th>Thursday</th>\n",
       "      <td>84</td>\n",
       "    </tr>\n",
       "    <tr>\n",
       "      <th>Tuesday</th>\n",
       "      <td>45</td>\n",
       "    </tr>\n",
       "    <tr>\n",
       "      <th>Wednesday</th>\n",
       "      <td>38</td>\n",
       "    </tr>\n",
       "  </tbody>\n",
       "</table>\n",
       "</div>"
      ],
      "text/plain": [
       "                 Message count\n",
       "Day of the week               \n",
       "Friday                      48\n",
       "Monday                      35\n",
       "Saturday                    70\n",
       "Sunday                      38\n",
       "Thursday                    84\n",
       "Tuesday                     45\n",
       "Wednesday                   38"
      ]
     },
     "execution_count": 32,
     "metadata": {},
     "output_type": "execute_result"
    }
   ],
   "source": [
    "# check message counts by day of the week\n",
    "week_user_msg_count.pivot_table(index=['Day of the week'],values=['Message count'],aggfunc='sum')"
   ]
  },
  {
   "cell_type": "code",
   "execution_count": 33,
   "metadata": {
    "scrolled": false
   },
   "outputs": [
    {
     "data": {
      "image/png": "[encoded data removed]",
      "text/plain": [
       "<Figure size 720x440 with 1 Axes>"
      ]
     },
     "metadata": {
      "needs_background": "light"
     },
     "output_type": "display_data"
    }
   ],
   "source": [
    "# plot no. of message by hours\n",
    "plt.figure(figsize=(9,5.5),dpi=80)\n",
    "plt.plot(hour_msg_count['Hours'],hour_msg_count['Message count'],color='darkred')\n",
    "plt.title('No. of message by hours during whole period')\n",
    "plt.yticks([i * 5 for i in range(0, 17)])\n",
    "plt.xlabel('Hours in a day (00:00-23:00)')\n",
    "plt.ylabel('Message count')\n",
    "plt.show()"
   ]
  },
  {
   "cell_type": "code",
   "execution_count": 34,
   "metadata": {
    "scrolled": false
   },
   "outputs": [
    {
     "data": {
      "image/png": "[encoded data removed]",
      "text/plain": [
       "<Figure size 1440x504 with 1 Axes>"
      ]
     },
     "metadata": {
      "needs_background": "light"
     },
     "output_type": "display_data"
    }
   ],
   "source": [
    "# plot distributions of message by days of the week\n",
    "fig, ax = plt.subplots(figsize=(20,7))\n",
    "ax. set_title(\"Message count by Day of the week & Users\")\n",
    "g=sns.barplot(x='Day of the week',y='Message count',hue='Username',data=week_user_msg_count,palette='Set1')"
   ]
  },
  {
   "cell_type": "code",
   "execution_count": 35,
   "metadata": {},
   "outputs": [
    {
     "name": "stdout",
     "output_type": "stream",
     "text": [
      "48.32% of messages were sent at hours: ['08', '09', '10'] & on ['Thusday', 'Saturday'].\n",
      "With 173 rows in total.\n"
     ]
    }
   ],
   "source": [
    "# seems that people were active during 8am - 10am or on thursdays & saturdays (peak periods)\n",
    "# let's see how many messages were sent during the specified periods\n",
    "time_slot_wanted=['08','09','10']\n",
    "days_wanted=['Thusday','Saturday']\n",
    "df_chat_peak=df_chat1[df_chat1['Hours'].isin(time_slot_wanted)|df_chat1['Day of the week'].isin(days_wanted)]\n",
    "\n",
    "print(f'{round(df_chat_peak.shape[0]/df_chat1.shape[0],4)*100}% of messages were sent at hours: {time_slot_wanted} & on {days_wanted}.')\n",
    "print(f'With {df_chat_peak.shape[0]} rows in total.')"
   ]
  },
  {
   "cell_type": "code",
   "execution_count": 36,
   "metadata": {},
   "outputs": [
    {
     "data": {
      "text/html": [
       "<div>\n",
       "<style scoped>\n",
       "    .dataframe tbody tr th:only-of-type {\n",
       "        vertical-align: middle;\n",
       "    }\n",
       "\n",
       "    .dataframe tbody tr th {\n",
       "        vertical-align: top;\n",
       "    }\n",
       "\n",
       "    .dataframe thead th {\n",
       "        text-align: right;\n",
       "    }\n",
       "</style>\n",
       "<table border=\"1\" class=\"dataframe\">\n",
       "  <thead>\n",
       "    <tr style=\"text-align: right;\">\n",
       "      <th></th>\n",
       "      <th>Username</th>\n",
       "      <th>Message Content</th>\n",
       "      <th>Hours</th>\n",
       "      <th>Day of the week</th>\n",
       "    </tr>\n",
       "    <tr>\n",
       "      <th>Date &amp; Time</th>\n",
       "      <th></th>\n",
       "      <th></th>\n",
       "      <th></th>\n",
       "      <th></th>\n",
       "    </tr>\n",
       "  </thead>\n",
       "  <tbody>\n",
       "    <tr>\n",
       "      <th>2021-10-23 18:45:00</th>\n",
       "      <td>+61 41* *** *24</td>\n",
       "      <td>[&lt;Media omitted&gt;]</td>\n",
       "      <td>18</td>\n",
       "      <td>Saturday</td>\n",
       "    </tr>\n",
       "    <tr>\n",
       "      <th>2022-01-20 09:44:00</th>\n",
       "      <td>Wi**</td>\n",
       "      <td>[呢兩日攰唔攰呀，Gab.C？有無唔舒服呢？]</td>\n",
       "      <td>09</td>\n",
       "      <td>Thursday</td>\n",
       "    </tr>\n",
       "    <tr>\n",
       "      <th>2022-01-19 09:22:00</th>\n",
       "      <td>Ja**y</td>\n",
       "      <td>[今早到Gab.C打針啦]</td>\n",
       "      <td>09</td>\n",
       "      <td>Wednesday</td>\n",
       "    </tr>\n",
       "    <tr>\n",
       "      <th>2022-01-22 18:34:00</th>\n",
       "      <td>Ja**y</td>\n",
       "      <td>[&lt;Media omitted&gt;]</td>\n",
       "      <td>18</td>\n",
       "      <td>Saturday</td>\n",
       "    </tr>\n",
       "    <tr>\n",
       "      <th>2022-02-12 14:10:00</th>\n",
       "      <td>Mum</td>\n",
       "      <td>[🙏🙏]</td>\n",
       "      <td>14</td>\n",
       "      <td>Saturday</td>\n",
       "    </tr>\n",
       "    <tr>\n",
       "      <th>2022-01-27 10:18:00</th>\n",
       "      <td>Mum</td>\n",
       "      <td>[🙏🙏]</td>\n",
       "      <td>10</td>\n",
       "      <td>Thursday</td>\n",
       "    </tr>\n",
       "    <tr>\n",
       "      <th>2021-12-21 09:45:00</th>\n",
       "      <td>Mum</td>\n",
       "      <td>[&lt;Media omitted&gt;]</td>\n",
       "      <td>09</td>\n",
       "      <td>Tuesday</td>\n",
       "    </tr>\n",
       "    <tr>\n",
       "      <th>2022-02-26 14:38:00</th>\n",
       "      <td>Emi**** **de</td>\n",
       "      <td>[Nice]</td>\n",
       "      <td>14</td>\n",
       "      <td>Saturday</td>\n",
       "    </tr>\n",
       "  </tbody>\n",
       "</table>\n",
       "</div>"
      ],
      "text/plain": [
       "                            Username          Message Content Hours  \\\n",
       "Date & Time                                                           \n",
       "2021-10-23 18:45:00  +61 41* *** *24        [<Media omitted>]    18   \n",
       "2022-01-20 09:44:00             Wi**  [呢兩日攰唔攰呀，Gab.C？有無唔舒服呢？]    09   \n",
       "2022-01-19 09:22:00            Ja**y            [今早到Gab.C打針啦]    09   \n",
       "2022-01-22 18:34:00            Ja**y        [<Media omitted>]    18   \n",
       "2022-02-12 14:10:00              Mum                     [🙏🙏]    14   \n",
       "2022-01-27 10:18:00              Mum                     [🙏🙏]    10   \n",
       "2021-12-21 09:45:00              Mum        [<Media omitted>]    09   \n",
       "2022-02-26 14:38:00     Emi**** **de                   [Nice]    14   \n",
       "\n",
       "                    Day of the week  \n",
       "Date & Time                          \n",
       "2021-10-23 18:45:00        Saturday  \n",
       "2022-01-20 09:44:00        Thursday  \n",
       "2022-01-19 09:22:00       Wednesday  \n",
       "2022-01-22 18:34:00        Saturday  \n",
       "2022-02-12 14:10:00        Saturday  \n",
       "2022-01-27 10:18:00        Thursday  \n",
       "2021-12-21 09:45:00         Tuesday  \n",
       "2022-02-26 14:38:00        Saturday  "
      ]
     },
     "execution_count": 36,
     "metadata": {},
     "output_type": "execute_result"
    }
   ],
   "source": [
    "df_chat_peak.sample(8)"
   ]
  },
  {
   "cell_type": "markdown",
   "metadata": {},
   "source": [
    "#### 4.2.1 Common keywords of corresponding chat messages & their rates of appearances"
   ]
  },
  {
   "cell_type": "code",
   "execution_count": 37,
   "metadata": {},
   "outputs": [
    {
     "name": "stderr",
     "output_type": "stream",
     "text": [
      "Building prefix dict from the default dictionary ...\n",
      "Loading model from cache C:\\Users\\acer\\AppData\\Local\\Temp\\jieba.cache\n",
      "Loading model cost 1.916 seconds.\n",
      "Prefix dict has been built successfully.\n"
     ]
    }
   ],
   "source": [
    "# extract all content into a variable\n",
    "# load user's dictionary & cut chinese words more customisably with package - jieba\n",
    "import jieba\n",
    "# can manually adjust repeatedly, to increase accuracy\n",
    "jieba.load_userdict('WhatsApp Chat with Big Family - Dict.txt') \n",
    "\n",
    "peak_content=''\n",
    "for i in df_chat_peak['Message Content']:\n",
    "    for j in i:\n",
    "        j=j.strip()\n",
    "        peak_content+=' '.join(jieba.cut(j))"
   ]
  },
  {
   "cell_type": "code",
   "execution_count": 38,
   "metadata": {},
   "outputs": [
    {
     "data": {
      "text/plain": [
       "'< Media   omitted >VID - 20211023 - WA0022 . mp4   ( file   attached )嘩 一家 大小 去 吊 佢 返 屋企 咀 佢 😋 😋記住 带爺 爺同 我 去 吊魚 呀 😉嘩 ， 好大 條魚 啊 🐠 ！ 豐富 的 收 穫 👏 🏻 👏 🏻青衣 仔要 清蒸 后 ， 攤凍 肉質 才實 ， 好味Seb . C ， Gab . C 好 叻 ！ 😁 👍 🏻 💪< Media   omitted >< Media   omitted >< Media   omitted >< Media   omitted >好好 味 。 青衣 仔食 左末 ？我錫 '"
      ]
     },
     "execution_count": 38,
     "metadata": {},
     "output_type": "execute_result"
    }
   ],
   "source": [
    "peak_content[:300]"
   ]
  },
  {
   "cell_type": "code",
   "execution_count": 120,
   "metadata": {
    "collapsed": true
   },
   "outputs": [
    {
     "name": "stdout",
     "output_type": "stream",
     "text": [
      "Collecting wordcloud"
     ]
    },
    {
     "name": "stderr",
     "output_type": "stream",
     "text": [
      "WARNING: You are using pip version 22.0.4; however, version 22.1.1 is available.\n",
      "You should consider upgrading via the 'C:\\anaconda3\\python.exe -m pip install --upgrade pip' command.\n"
     ]
    },
    {
     "name": "stdout",
     "output_type": "stream",
     "text": [
      "\n",
      "  Downloading wordcloud-1.8.1-cp38-cp38-win_amd64.whl (155 kB)\n",
      "Requirement already satisfied: matplotlib in c:\\anaconda3\\lib\\site-packages (from wordcloud) (3.3.2)\n",
      "Requirement already satisfied: pillow in c:\\anaconda3\\lib\\site-packages (from wordcloud) (9.0.1)\n",
      "Requirement already satisfied: numpy>=1.6.1 in c:\\anaconda3\\lib\\site-packages (from wordcloud) (1.19.2)\n",
      "Requirement already satisfied: cycler>=0.10 in c:\\anaconda3\\lib\\site-packages (from matplotlib->wordcloud) (0.10.0)\n",
      "Requirement already satisfied: python-dateutil>=2.1 in c:\\anaconda3\\lib\\site-packages (from matplotlib->wordcloud) (2.8.1)\n",
      "Requirement already satisfied: pyparsing!=2.0.4,!=2.1.2,!=2.1.6,>=2.0.3 in c:\\anaconda3\\lib\\site-packages (from matplotlib->wordcloud) (2.4.7)\n",
      "Requirement already satisfied: certifi>=2020.06.20 in c:\\anaconda3\\lib\\site-packages (from matplotlib->wordcloud) (2021.10.8)\n",
      "Requirement already satisfied: kiwisolver>=1.0.1 in c:\\anaconda3\\lib\\site-packages (from matplotlib->wordcloud) (1.3.0)\n",
      "Requirement already satisfied: six in c:\\anaconda3\\lib\\site-packages (from cycler>=0.10->matplotlib->wordcloud) (1.15.0)\n",
      "Installing collected packages: wordcloud\n",
      "Successfully installed wordcloud-1.8.1\n"
     ]
    }
   ],
   "source": [
    "# install package \"wordcloud\"\n",
    "# !pip install wordcloud"
   ]
  },
  {
   "cell_type": "code",
   "execution_count": 39,
   "metadata": {},
   "outputs": [],
   "source": [
    "# generate keywords with wordcloud\n",
    "from wordcloud import WordCloud"
   ]
  },
  {
   "cell_type": "code",
   "execution_count": 40,
   "metadata": {},
   "outputs": [
    {
     "data": {
      "text/plain": [
       "<wordcloud.wordcloud.WordCloud at 0x24185e23220>"
      ]
     },
     "execution_count": 40,
     "metadata": {},
     "output_type": "execute_result"
    }
   ],
   "source": [
    "# path of the font\n",
    "font=r'C:/Windows/Fonts/msyh.ttc'\n",
    "# generate wordcloud image\n",
    "wc1=WordCloud(font_path=font,width=1400,height=1050, mode='RGBA',background_color='white').generate(text=peak_content)\n",
    "wc1"
   ]
  },
  {
   "cell_type": "code",
   "execution_count": 41,
   "metadata": {},
   "outputs": [
    {
     "data": {
      "image/png": "[encoded data removed]",
      "text/plain": [
       "<Figure size 576x360 with 1 Axes>"
      ]
     },
     "metadata": {
      "needs_background": "light"
     },
     "output_type": "display_data"
    }
   ],
   "source": [
    "# display the wordcloud image\n",
    "plt.figure(figsize=(8,5))\n",
    "wc1.to_file('Chat_wc01.png')\n",
    "plt.imshow(wc1,interpolation='bilinear')\n",
    "plt.axis('off')\n",
    "plt.show()"
   ]
  },
  {
   "cell_type": "code",
   "execution_count": 42,
   "metadata": {},
   "outputs": [],
   "source": [
    "# refer to above wordcloud, use the 'stopwords' variable to filterout meaningless conjunctions/prepositions\n",
    "# can discover & add more cutwords when necessary\n",
    "with open('WhatsApp Chat with Big Family - stopwords.txt',mode='r',encoding='utf-8-sig') as file:\n",
    "    stopwords=file.read().splitlines()"
   ]
  },
  {
   "cell_type": "code",
   "execution_count": 43,
   "metadata": {},
   "outputs": [
    {
     "data": {
      "text/plain": [
       "<wordcloud.wordcloud.WordCloud at 0x24185e43c10>"
      ]
     },
     "execution_count": 43,
     "metadata": {},
     "output_type": "execute_result"
    }
   ],
   "source": [
    "wc2=WordCloud(font_path=font,width=1400,height=1050, mode='RGBA',stopwords=stopwords,background_color='white').generate(text=peak_content)\n",
    "wc2"
   ]
  },
  {
   "cell_type": "code",
   "execution_count": 44,
   "metadata": {},
   "outputs": [
    {
     "data": {
      "image/png": "[encoded data removed]",
      "text/plain": [
       "<Figure size 576x360 with 1 Axes>"
      ]
     },
     "metadata": {
      "needs_background": "light"
     },
     "output_type": "display_data"
    }
   ],
   "source": [
    "plt.figure(figsize=(8,5))\n",
    "wc2.to_file('Chat_wc02.png')\n",
    "plt.imshow(wc2,interpolation='bilinear')\n",
    "plt.axis('off')\n",
    "plt.show()"
   ]
  },
  {
   "cell_type": "code",
   "execution_count": 45,
   "metadata": {},
   "outputs": [
    {
     "name": "stdout",
     "output_type": "stream",
     "text": [
      "During hours ['08', '09', '10'] or ['Thusday', 'Saturday'], there were 173 messages sent, where \n",
      "\n",
      "13.29% of messages containing \"youtu.be\", i.e. 23 in total. \n",
      "\n",
      "12.14% of messages containing \"靈修\", i.e. 21 in total. \n",
      "\n",
      "12.14% of messages containing \"邦聞\", i.e. 21 in total. \n",
      "\n",
      "39.31% of messages containing \"🙏\", i.e. 68 in total. \n",
      "\n",
      "2.31% of messages containing \"🤣\", i.e. 4 in total. \n",
      "\n",
      "12.72% of messages containing \"詩歌\", i.e. 22 in total. \n",
      "\n",
      "20.81% of messages containing \"Media omitted\", i.e. 36 in total. \n",
      "\n",
      "13.29% of messages containing \"2022\", i.e. 23 in total. \n",
      "\n",
      "11.56% of messages containing \"回應\", i.e. 20 in total. \n",
      "\n",
      "13.29% of messages containing \"分享\", i.e. 23 in total. \n",
      "\n",
      "15.61% of messages containing \"神\", i.e. 27 in total. \n",
      "\n"
     ]
    },
    {
     "name": "stderr",
     "output_type": "stream",
     "text": [
      "<ipython-input-45-205cb1383b95>:4: SettingWithCopyWarning: \n",
      "A value is trying to be set on a copy of a slice from a DataFrame.\n",
      "Try using .loc[row_indexer,col_indexer] = value instead\n",
      "\n",
      "See the caveats in the documentation: https://pandas.pydata.org/pandas-docs/stable/user_guide/indexing.html#returning-a-view-versus-a-copy\n",
      "  df_chat_peak['Message Content']=df_chat_peak['Message Content'].astype(str)\n"
     ]
    }
   ],
   "source": [
    "# choose any keyword from wordcloud & add some others manually\n",
    "kw_list=['youtu.be','靈修','邦聞','🙏','🤣','詩歌','Media omitted','2022','回應','分享','神']\n",
    "\n",
    "df_chat_peak['Message Content']=df_chat_peak['Message Content'].astype(str)\n",
    "print(f'During hours {time_slot_wanted} or {days_wanted}, there were {df_chat_peak.shape[0]} messages sent, where \\n')\n",
    "\n",
    "for kw in kw_list:\n",
    "    kw_len=len(df_chat_peak[df_chat_peak['Message Content'].str.contains(kw)])\n",
    "    print(f'{round(kw_len/df_chat_peak.shape[0]*100,2)}% of messages containing \"{kw}\", i.e. {kw_len} in total. \\n')"
   ]
  },
  {
   "cell_type": "markdown",
   "metadata": {},
   "source": [
    "#### It seems like '靈修', '邦聞', 'youtu.be', ' Media omitted', '🙏' & '2022'  are the most common keywords during the \"peak periods\". \n",
    "#### we will see if these keywords were also common in the below scenarios"
   ]
  },
  {
   "cell_type": "markdown",
   "metadata": {},
   "source": [
    "### 4.3 Message counts & word counts by month per user"
   ]
  },
  {
   "cell_type": "code",
   "execution_count": 46,
   "metadata": {},
   "outputs": [],
   "source": [
    "# create new column - year+month\n",
    "df_chat1['Month']=df_chat1.index\n",
    "df_chat1['Month']=df_chat1['Month'].dt.strftime('%Y-%m')"
   ]
  },
  {
   "cell_type": "code",
   "execution_count": 47,
   "metadata": {
    "scrolled": true
   },
   "outputs": [
    {
     "data": {
      "text/plain": [
       "Date & Time\n",
       "2021-10-23 15:50:00                            [<Media omitted>]\n",
       "2021-10-23 15:50:00    [VID-20211023-WA0022.mp4 (file attached)]\n",
       "2021-10-23 15:52:00                            [嘩一家大小去吊佢返屋企咀佢😋😋]\n",
       "2021-10-23 15:53:00                               [記住带爺爺同我去吊魚呀😉]\n",
       "2021-10-23 17:17:00                         [嘩，好大條魚啊🐠！豐富的收穫👏🏻👏🏻]\n",
       "2021-10-23 17:22:00                          [青衣仔要清蒸后，攤凍肉質才實，好味]\n",
       "2021-10-23 17:38:00                         [Seb.C，Gab.C好叻！😁👍🏻💪]\n",
       "2021-10-23 18:45:00                            [<Media omitted>]\n",
       "2021-10-23 18:45:00                            [<Media omitted>]\n",
       "2021-10-23 18:45:00                            [<Media omitted>]\n",
       "2021-10-23 18:45:00                            [<Media omitted>]\n",
       "2021-10-23 18:55:00                                [好好味。青衣仔食左末？]\n",
       "2021-10-23 18:56:00                 [我錫你呀Seb.CGab.C嫲嫲想咬你一啖好味過條魚]\n",
       "2021-10-23 19:00:00                                   [青衣仔係受保護㗎]\n",
       "2021-10-23 19:00:00                                      [唔拎得上嚟]\n",
       "2021-10-23 19:00:00                                  [咁要養肥佢先畀你咬]\n",
       "2021-10-23 19:29:00                                         [🤣👏]\n",
       "2021-10-23 19:29:00                     [<Media omitted> 我地努力狂奔]\n",
       "2021-10-23 19:35:00                                       [💪🏻💪🏻]\n",
       "2021-10-23 19:46:00                     [<Media omitted> 跟住努力食🤣]\n",
       "Name: Message Content, dtype: object"
      ]
     },
     "execution_count": 47,
     "metadata": {},
     "output_type": "execute_result"
    }
   ],
   "source": [
    "df_chat1.iloc[:20]['Message Content']"
   ]
  },
  {
   "cell_type": "markdown",
   "metadata": {},
   "source": [
    "#### 4.3.1 Replace strings - 'Media omitted' & '(file attached)' & create new column for word counts(message length)"
   ]
  },
  {
   "cell_type": "code",
   "execution_count": 48,
   "metadata": {},
   "outputs": [],
   "source": [
    "# create new column - Message length, to show how many words each message had\n",
    "# before that, replace '['<Media omitted>']' & '(file attached)' by '' as they are meanlingless to word counts\n",
    "replace_content1='<Media omitted>'\n",
    "replace_content2='(file attached)'\n",
    "\n",
    "df_chat1['Message Content']=df_chat1['Message Content'].astype(str)\n",
    "df_chat1['Message Content']=df_chat1['Message Content'].str.replace(replace_content1,'@')\n",
    "df_chat1['Message Content']=df_chat1['Message Content'].str.replace(replace_content2,'@')\n",
    "# after replacement, create new column\n",
    "df_chat1['Message length (Words)']=df_chat1['Message Content'][:].str.len()"
   ]
  },
  {
   "cell_type": "code",
   "execution_count": 49,
   "metadata": {},
   "outputs": [
    {
     "data": {
      "text/html": [
       "<div>\n",
       "<style scoped>\n",
       "    .dataframe tbody tr th:only-of-type {\n",
       "        vertical-align: middle;\n",
       "    }\n",
       "\n",
       "    .dataframe tbody tr th {\n",
       "        vertical-align: top;\n",
       "    }\n",
       "\n",
       "    .dataframe thead th {\n",
       "        text-align: right;\n",
       "    }\n",
       "</style>\n",
       "<table border=\"1\" class=\"dataframe\">\n",
       "  <thead>\n",
       "    <tr style=\"text-align: right;\">\n",
       "      <th></th>\n",
       "      <th>Username</th>\n",
       "      <th>Message Content</th>\n",
       "      <th>Message length (Words)</th>\n",
       "    </tr>\n",
       "    <tr>\n",
       "      <th>Date &amp; Time</th>\n",
       "      <th></th>\n",
       "      <th></th>\n",
       "      <th></th>\n",
       "    </tr>\n",
       "  </thead>\n",
       "  <tbody>\n",
       "    <tr>\n",
       "      <th>2021-10-23 15:50:00</th>\n",
       "      <td>Ja**y</td>\n",
       "      <td>['@']</td>\n",
       "      <td>5</td>\n",
       "    </tr>\n",
       "    <tr>\n",
       "      <th>2021-10-23 15:50:00</th>\n",
       "      <td>Ja**y</td>\n",
       "      <td>['VID-20211023-WA0022.mp4 (@)']</td>\n",
       "      <td>31</td>\n",
       "    </tr>\n",
       "    <tr>\n",
       "      <th>2021-10-23 15:52:00</th>\n",
       "      <td>+852 90** **85</td>\n",
       "      <td>['嘩一家大小去吊佢返屋企咀佢😋😋']</td>\n",
       "      <td>19</td>\n",
       "    </tr>\n",
       "    <tr>\n",
       "      <th>2021-10-23 15:53:00</th>\n",
       "      <td>+852 90** **85</td>\n",
       "      <td>['記住带爺爺同我去吊魚呀😉']</td>\n",
       "      <td>16</td>\n",
       "    </tr>\n",
       "    <tr>\n",
       "      <th>2021-10-23 17:17:00</th>\n",
       "      <td>Wi**</td>\n",
       "      <td>['嘩，好大條魚啊🐠！豐富的收穫👏🏻👏🏻']</td>\n",
       "      <td>22</td>\n",
       "    </tr>\n",
       "    <tr>\n",
       "      <th>2021-10-23 17:22:00</th>\n",
       "      <td>+852 91** **44</td>\n",
       "      <td>['青衣仔要清蒸后，攤凍肉質才實，好味']</td>\n",
       "      <td>21</td>\n",
       "    </tr>\n",
       "    <tr>\n",
       "      <th>2021-10-23 17:38:00</th>\n",
       "      <td>+86 13* **** *929</td>\n",
       "      <td>['Seb.C，Gab.C好叻！😁👍🏻💪']</td>\n",
       "      <td>22</td>\n",
       "    </tr>\n",
       "    <tr>\n",
       "      <th>2021-10-23 18:45:00</th>\n",
       "      <td>+61 41* *** *24</td>\n",
       "      <td>['@']</td>\n",
       "      <td>5</td>\n",
       "    </tr>\n",
       "    <tr>\n",
       "      <th>2021-10-23 18:45:00</th>\n",
       "      <td>+61 41* *** *24</td>\n",
       "      <td>['@']</td>\n",
       "      <td>5</td>\n",
       "    </tr>\n",
       "    <tr>\n",
       "      <th>2021-10-23 18:45:00</th>\n",
       "      <td>+61 41* *** *24</td>\n",
       "      <td>['@']</td>\n",
       "      <td>5</td>\n",
       "    </tr>\n",
       "    <tr>\n",
       "      <th>2021-10-23 18:45:00</th>\n",
       "      <td>Ja**y</td>\n",
       "      <td>['@']</td>\n",
       "      <td>5</td>\n",
       "    </tr>\n",
       "    <tr>\n",
       "      <th>2021-10-23 18:55:00</th>\n",
       "      <td>+852 91** **44</td>\n",
       "      <td>['好好味。青衣仔食左末？']</td>\n",
       "      <td>15</td>\n",
       "    </tr>\n",
       "  </tbody>\n",
       "</table>\n",
       "</div>"
      ],
      "text/plain": [
       "                              Username                  Message Content  \\\n",
       "Date & Time                                                               \n",
       "2021-10-23 15:50:00              Ja**y                            ['@']   \n",
       "2021-10-23 15:50:00              Ja**y  ['VID-20211023-WA0022.mp4 (@)']   \n",
       "2021-10-23 15:52:00     +852 90** **85              ['嘩一家大小去吊佢返屋企咀佢😋😋']   \n",
       "2021-10-23 15:53:00     +852 90** **85                 ['記住带爺爺同我去吊魚呀😉']   \n",
       "2021-10-23 17:17:00               Wi**           ['嘩，好大條魚啊🐠！豐富的收穫👏🏻👏🏻']   \n",
       "2021-10-23 17:22:00     +852 91** **44            ['青衣仔要清蒸后，攤凍肉質才實，好味']   \n",
       "2021-10-23 17:38:00  +86 13* **** *929           ['Seb.C，Gab.C好叻！😁👍🏻💪']   \n",
       "2021-10-23 18:45:00    +61 41* *** *24                            ['@']   \n",
       "2021-10-23 18:45:00    +61 41* *** *24                            ['@']   \n",
       "2021-10-23 18:45:00    +61 41* *** *24                            ['@']   \n",
       "2021-10-23 18:45:00              Ja**y                            ['@']   \n",
       "2021-10-23 18:55:00     +852 91** **44                  ['好好味。青衣仔食左末？']   \n",
       "\n",
       "                     Message length (Words)  \n",
       "Date & Time                                  \n",
       "2021-10-23 15:50:00                       5  \n",
       "2021-10-23 15:50:00                      31  \n",
       "2021-10-23 15:52:00                      19  \n",
       "2021-10-23 15:53:00                      16  \n",
       "2021-10-23 17:17:00                      22  \n",
       "2021-10-23 17:22:00                      21  \n",
       "2021-10-23 17:38:00                      22  \n",
       "2021-10-23 18:45:00                       5  \n",
       "2021-10-23 18:45:00                       5  \n",
       "2021-10-23 18:45:00                       5  \n",
       "2021-10-23 18:45:00                       5  \n",
       "2021-10-23 18:55:00                      15  "
      ]
     },
     "execution_count": 49,
     "metadata": {},
     "output_type": "execute_result"
    }
   ],
   "source": [
    "df_chat1.iloc[:12][['Username','Message Content','Message length (Words)']]"
   ]
  },
  {
   "cell_type": "code",
   "execution_count": 50,
   "metadata": {},
   "outputs": [
    {
     "name": "stderr",
     "output_type": "stream",
     "text": [
      "C:\\anaconda3\\lib\\site-packages\\pandas\\core\\strings.py:2001: UserWarning: This pattern has match groups. To actually get the groups, use str.extract.\n",
      "  return func(self, *args, **kwargs)\n"
     ]
    },
    {
     "data": {
      "text/html": [
       "<div>\n",
       "<style scoped>\n",
       "    .dataframe tbody tr th:only-of-type {\n",
       "        vertical-align: middle;\n",
       "    }\n",
       "\n",
       "    .dataframe tbody tr th {\n",
       "        vertical-align: top;\n",
       "    }\n",
       "\n",
       "    .dataframe thead th {\n",
       "        text-align: right;\n",
       "    }\n",
       "</style>\n",
       "<table border=\"1\" class=\"dataframe\">\n",
       "  <thead>\n",
       "    <tr style=\"text-align: right;\">\n",
       "      <th></th>\n",
       "      <th>Username</th>\n",
       "      <th>Message Content</th>\n",
       "      <th>Hours</th>\n",
       "      <th>Day of the week</th>\n",
       "      <th>Month</th>\n",
       "      <th>Message length (Words)</th>\n",
       "    </tr>\n",
       "    <tr>\n",
       "      <th>Date &amp; Time</th>\n",
       "      <th></th>\n",
       "      <th></th>\n",
       "      <th></th>\n",
       "      <th></th>\n",
       "      <th></th>\n",
       "      <th></th>\n",
       "    </tr>\n",
       "  </thead>\n",
       "  <tbody>\n",
       "  </tbody>\n",
       "</table>\n",
       "</div>"
      ],
      "text/plain": [
       "Empty DataFrame\n",
       "Columns: [Username, Message Content, Hours, Day of the week, Month, Message length (Words)]\n",
       "Index: []"
      ]
     },
     "metadata": {},
     "output_type": "display_data"
    },
    {
     "data": {
      "text/html": [
       "<div>\n",
       "<style scoped>\n",
       "    .dataframe tbody tr th:only-of-type {\n",
       "        vertical-align: middle;\n",
       "    }\n",
       "\n",
       "    .dataframe tbody tr th {\n",
       "        vertical-align: top;\n",
       "    }\n",
       "\n",
       "    .dataframe thead th {\n",
       "        text-align: right;\n",
       "    }\n",
       "</style>\n",
       "<table border=\"1\" class=\"dataframe\">\n",
       "  <thead>\n",
       "    <tr style=\"text-align: right;\">\n",
       "      <th></th>\n",
       "      <th>Username</th>\n",
       "      <th>Message Content</th>\n",
       "      <th>Hours</th>\n",
       "      <th>Day of the week</th>\n",
       "      <th>Month</th>\n",
       "      <th>Message length (Words)</th>\n",
       "    </tr>\n",
       "    <tr>\n",
       "      <th>Date &amp; Time</th>\n",
       "      <th></th>\n",
       "      <th></th>\n",
       "      <th></th>\n",
       "      <th></th>\n",
       "      <th></th>\n",
       "      <th></th>\n",
       "    </tr>\n",
       "  </thead>\n",
       "  <tbody>\n",
       "  </tbody>\n",
       "</table>\n",
       "</div>"
      ],
      "text/plain": [
       "Empty DataFrame\n",
       "Columns: [Username, Message Content, Hours, Day of the week, Month, Message length (Words)]\n",
       "Index: []"
      ]
     },
     "metadata": {},
     "output_type": "display_data"
    }
   ],
   "source": [
    "# ensure all messages contained '['<Media omitted>']' & '(file attached)' are all replaced\n",
    "# BOTH DATAFRAMES HAVE TO BE EMPTY\n",
    "display(df_chat1[df_chat1['Message Content'].str.contains(replace_content1)],\n",
    "        df_chat1[df_chat1['Message Content'].str.contains(replace_content2)])"
   ]
  },
  {
   "cell_type": "markdown",
   "metadata": {},
   "source": [
    "#### 4.3.2 Visualisations & comparison for \"message count by month & user\" & \"word counts(message length) by month & user\" respectively"
   ]
  },
  {
   "cell_type": "code",
   "execution_count": 51,
   "metadata": {},
   "outputs": [
    {
     "name": "stdout",
     "output_type": "stream",
     "text": [
      "<class 'pandas.core.frame.DataFrame'>\n",
      "DatetimeIndex: 358 entries, 2021-10-23 15:50:00 to 2022-03-02 19:05:00\n",
      "Data columns (total 6 columns):\n",
      " #   Column                  Non-Null Count  Dtype \n",
      "---  ------                  --------------  ----- \n",
      " 0   Username                358 non-null    object\n",
      " 1   Message Content         358 non-null    object\n",
      " 2   Hours                   358 non-null    object\n",
      " 3   Day of the week         358 non-null    object\n",
      " 4   Month                   358 non-null    object\n",
      " 5   Message length (Words)  358 non-null    int64 \n",
      "dtypes: int64(1), object(5)\n",
      "memory usage: 19.6+ KB\n"
     ]
    }
   ],
   "source": [
    "# check & ensure desired dtypes\n",
    "df_chat1.info()"
   ]
  },
  {
   "cell_type": "code",
   "execution_count": 52,
   "metadata": {},
   "outputs": [],
   "source": [
    "# create a dataframe that shows message count by month & user\n",
    "month_msg_count=df_chat1.groupby(['Month','Username'],as_index=False)['Message Content'].count()\n",
    "month_msg_count.rename(columns={'Message Content':'Message count'}, inplace=True)"
   ]
  },
  {
   "cell_type": "code",
   "execution_count": 53,
   "metadata": {
    "scrolled": true
   },
   "outputs": [],
   "source": [
    "month_msg_count=pd.DataFrame(month_msg_count)"
   ]
  },
  {
   "cell_type": "code",
   "execution_count": 54,
   "metadata": {},
   "outputs": [
    {
     "data": {
      "image/png": "[encoded data removed]",
      "text/plain": [
       "<Figure size 936x576 with 1 Axes>"
      ]
     },
     "metadata": {
      "needs_background": "light"
     },
     "output_type": "display_data"
    }
   ],
   "source": [
    "fig, ax = plt.subplots(figsize=(13,8))\n",
    "ax. set_title(\"Message Count by Months & Users\")\n",
    "g=sns.barplot(x='Month',y='Message count',hue='Username',data=month_msg_count)"
   ]
  },
  {
   "cell_type": "code",
   "execution_count": 55,
   "metadata": {},
   "outputs": [],
   "source": [
    "# create a dataframe that shows message length by month & user\n",
    "month_msg_length=df_chat1.groupby(['Month','Username'],as_index=False)['Message length (Words)'].sum()"
   ]
  },
  {
   "cell_type": "code",
   "execution_count": 56,
   "metadata": {},
   "outputs": [],
   "source": [
    "month_msg_length=pd.DataFrame(month_msg_length)"
   ]
  },
  {
   "cell_type": "code",
   "execution_count": 57,
   "metadata": {},
   "outputs": [
    {
     "data": {
      "image/png": "[encoded data removed]",
      "text/plain": [
       "<Figure size 936x576 with 1 Axes>"
      ]
     },
     "metadata": {
      "needs_background": "light"
     },
     "output_type": "display_data"
    }
   ],
   "source": [
    "fig, ax = plt.subplots(figsize=(13,8))\n",
    "ax. set_title(\"Message Length by Months & Users\")\n",
    "g=sns.barplot(x='Month',y='Message length (Words)',hue='Username',data=month_msg_length)"
   ]
  },
  {
   "cell_type": "markdown",
   "metadata": {},
   "source": [
    "#### Users '+852 90.. ..85',\t'+86 13. .... .929', '+852 93.. ..27' & 'Mum' were seemingly the most active users over the 6 month-period, but +852 93....27' has sent overwhelming amount of words compared to other users, especially in Feb 2022, \n",
    "#### we will examine if there would have been any correlation between common keywords & activities of users."
   ]
  },
  {
   "cell_type": "markdown",
   "metadata": {},
   "source": [
    "#### 4.3.3 Find correlations aong message counts, essage length (word counts) & Average words per message\n",
    "#### based on '80/20 rule'(or 'Pareto Principle'), refer to https://www.investopedia.com/terms/p/paretoprinciple.asp"
   ]
  },
  {
   "cell_type": "code",
   "execution_count": 58,
   "metadata": {
    "scrolled": true
   },
   "outputs": [
    {
     "name": "stdout",
     "output_type": "stream",
     "text": [
      "True \n",
      "\n",
      " 0     True\n",
      "1     True\n",
      "2     True\n",
      "3     True\n",
      "4     True\n",
      "5     True\n",
      "6     True\n",
      "7     True\n",
      "8     True\n",
      "9     True\n",
      "10    True\n",
      "11    True\n",
      "12    True\n",
      "13    True\n",
      "14    True\n",
      "15    True\n",
      "16    True\n",
      "17    True\n",
      "18    True\n",
      "19    True\n",
      "20    True\n",
      "21    True\n",
      "22    True\n",
      "23    True\n",
      "24    True\n",
      "25    True\n",
      "26    True\n",
      "27    True\n",
      "28    True\n",
      "29    True\n",
      "30    True\n",
      "31    True\n",
      "32    True\n",
      "33    True\n",
      "34    True\n",
      "35    True\n",
      "36    True\n",
      "37    True\n",
      "38    True\n",
      "39    True\n",
      "40    True\n",
      "41    True\n",
      "42    True\n",
      "43    True\n",
      "44    True\n",
      "45    True\n",
      "46    True\n",
      "47    True\n",
      "Name: Month, dtype: bool\n"
     ]
    }
   ],
   "source": [
    "# check if the row numbers & values of 'Month' columns of both DataFrame are the same or not.\n",
    "print(month_msg_count.shape[0]==month_msg_length.shape[0],'\\n\\n',month_msg_count['Month']==month_msg_length['Month'])"
   ]
  },
  {
   "cell_type": "code",
   "execution_count": 59,
   "metadata": {},
   "outputs": [],
   "source": [
    "# merge both DataFrames on columns 'Month' & 'Username'\n",
    "month_msg_count_length=pd.merge(left=month_msg_count,right=month_msg_length,how='inner',left_on=['Month','Username'],right_on=['Month','Username'])"
   ]
  },
  {
   "cell_type": "code",
   "execution_count": 60,
   "metadata": {
    "scrolled": true
   },
   "outputs": [
    {
     "data": {
      "text/html": [
       "<div>\n",
       "<style scoped>\n",
       "    .dataframe tbody tr th:only-of-type {\n",
       "        vertical-align: middle;\n",
       "    }\n",
       "\n",
       "    .dataframe tbody tr th {\n",
       "        vertical-align: top;\n",
       "    }\n",
       "\n",
       "    .dataframe thead th {\n",
       "        text-align: right;\n",
       "    }\n",
       "</style>\n",
       "<table border=\"1\" class=\"dataframe\">\n",
       "  <thead>\n",
       "    <tr style=\"text-align: right;\">\n",
       "      <th></th>\n",
       "      <th>Month</th>\n",
       "      <th>Username</th>\n",
       "      <th>Message count</th>\n",
       "      <th>Message length (Words)</th>\n",
       "    </tr>\n",
       "  </thead>\n",
       "  <tbody>\n",
       "    <tr>\n",
       "      <th>0</th>\n",
       "      <td>2021-10</td>\n",
       "      <td>+61 41* *** *24</td>\n",
       "      <td>8</td>\n",
       "      <td>68</td>\n",
       "    </tr>\n",
       "    <tr>\n",
       "      <th>1</th>\n",
       "      <td>2021-10</td>\n",
       "      <td>+852 90** **85</td>\n",
       "      <td>3</td>\n",
       "      <td>65</td>\n",
       "    </tr>\n",
       "    <tr>\n",
       "      <th>2</th>\n",
       "      <td>2021-10</td>\n",
       "      <td>+852 91** **44</td>\n",
       "      <td>2</td>\n",
       "      <td>36</td>\n",
       "    </tr>\n",
       "    <tr>\n",
       "      <th>3</th>\n",
       "      <td>2021-10</td>\n",
       "      <td>+852 98** **07</td>\n",
       "      <td>8</td>\n",
       "      <td>100</td>\n",
       "    </tr>\n",
       "    <tr>\n",
       "      <th>4</th>\n",
       "      <td>2021-10</td>\n",
       "      <td>+86 13* **** *929</td>\n",
       "      <td>4</td>\n",
       "      <td>42</td>\n",
       "    </tr>\n",
       "  </tbody>\n",
       "</table>\n",
       "</div>"
      ],
      "text/plain": [
       "     Month           Username  Message count  Message length (Words)\n",
       "0  2021-10    +61 41* *** *24              8                      68\n",
       "1  2021-10     +852 90** **85              3                      65\n",
       "2  2021-10     +852 91** **44              2                      36\n",
       "3  2021-10     +852 98** **07              8                     100\n",
       "4  2021-10  +86 13* **** *929              4                      42"
      ]
     },
     "execution_count": 60,
     "metadata": {},
     "output_type": "execute_result"
    }
   ],
   "source": [
    "month_msg_count_length.head()"
   ]
  },
  {
   "cell_type": "code",
   "execution_count": 61,
   "metadata": {},
   "outputs": [],
   "source": [
    "# Create new column, average words per message\n",
    "month_msg_count_length['Average words per message']=month_msg_count_length['Message length (Words)']/month_msg_count_length['Message count']\n",
    "month_msg_count_length['Average words per message']=month_msg_count_length['Average words per message'].apply(lambda x: round(x,2))"
   ]
  },
  {
   "cell_type": "code",
   "execution_count": 62,
   "metadata": {
    "scrolled": true
   },
   "outputs": [
    {
     "data": {
      "text/html": [
       "<div>\n",
       "<style scoped>\n",
       "    .dataframe tbody tr th:only-of-type {\n",
       "        vertical-align: middle;\n",
       "    }\n",
       "\n",
       "    .dataframe tbody tr th {\n",
       "        vertical-align: top;\n",
       "    }\n",
       "\n",
       "    .dataframe thead th {\n",
       "        text-align: right;\n",
       "    }\n",
       "</style>\n",
       "<table border=\"1\" class=\"dataframe\">\n",
       "  <thead>\n",
       "    <tr style=\"text-align: right;\">\n",
       "      <th></th>\n",
       "      <th>Month</th>\n",
       "      <th>Username</th>\n",
       "      <th>Message count</th>\n",
       "      <th>Message length (Words)</th>\n",
       "      <th>Average words per message</th>\n",
       "    </tr>\n",
       "  </thead>\n",
       "  <tbody>\n",
       "    <tr>\n",
       "      <th>0</th>\n",
       "      <td>2021-10</td>\n",
       "      <td>+61 41* *** *24</td>\n",
       "      <td>8</td>\n",
       "      <td>68</td>\n",
       "      <td>8.50</td>\n",
       "    </tr>\n",
       "    <tr>\n",
       "      <th>1</th>\n",
       "      <td>2021-10</td>\n",
       "      <td>+852 90** **85</td>\n",
       "      <td>3</td>\n",
       "      <td>65</td>\n",
       "      <td>21.67</td>\n",
       "    </tr>\n",
       "    <tr>\n",
       "      <th>2</th>\n",
       "      <td>2021-10</td>\n",
       "      <td>+852 91** **44</td>\n",
       "      <td>2</td>\n",
       "      <td>36</td>\n",
       "      <td>18.00</td>\n",
       "    </tr>\n",
       "    <tr>\n",
       "      <th>3</th>\n",
       "      <td>2021-10</td>\n",
       "      <td>+852 98** **07</td>\n",
       "      <td>8</td>\n",
       "      <td>100</td>\n",
       "      <td>12.50</td>\n",
       "    </tr>\n",
       "    <tr>\n",
       "      <th>4</th>\n",
       "      <td>2021-10</td>\n",
       "      <td>+86 13* **** *929</td>\n",
       "      <td>4</td>\n",
       "      <td>42</td>\n",
       "      <td>10.50</td>\n",
       "    </tr>\n",
       "    <tr>\n",
       "      <th>5</th>\n",
       "      <td>2021-10</td>\n",
       "      <td>Ja**y</td>\n",
       "      <td>4</td>\n",
       "      <td>50</td>\n",
       "      <td>12.50</td>\n",
       "    </tr>\n",
       "    <tr>\n",
       "      <th>6</th>\n",
       "      <td>2021-10</td>\n",
       "      <td>Mum</td>\n",
       "      <td>1</td>\n",
       "      <td>8</td>\n",
       "      <td>8.00</td>\n",
       "    </tr>\n",
       "    <tr>\n",
       "      <th>7</th>\n",
       "      <td>2021-10</td>\n",
       "      <td>Wi**</td>\n",
       "      <td>2</td>\n",
       "      <td>55</td>\n",
       "      <td>27.50</td>\n",
       "    </tr>\n",
       "    <tr>\n",
       "      <th>8</th>\n",
       "      <td>2021-11</td>\n",
       "      <td>+61 41* *** *24</td>\n",
       "      <td>4</td>\n",
       "      <td>44</td>\n",
       "      <td>11.00</td>\n",
       "    </tr>\n",
       "    <tr>\n",
       "      <th>9</th>\n",
       "      <td>2021-11</td>\n",
       "      <td>+852 90** **85</td>\n",
       "      <td>1</td>\n",
       "      <td>11</td>\n",
       "      <td>11.00</td>\n",
       "    </tr>\n",
       "    <tr>\n",
       "      <th>10</th>\n",
       "      <td>2021-11</td>\n",
       "      <td>+852 91** **44</td>\n",
       "      <td>1</td>\n",
       "      <td>26</td>\n",
       "      <td>26.00</td>\n",
       "    </tr>\n",
       "    <tr>\n",
       "      <th>11</th>\n",
       "      <td>2021-11</td>\n",
       "      <td>+852 93** **27</td>\n",
       "      <td>5</td>\n",
       "      <td>33</td>\n",
       "      <td>6.60</td>\n",
       "    </tr>\n",
       "    <tr>\n",
       "      <th>12</th>\n",
       "      <td>2021-11</td>\n",
       "      <td>+852 98** **07</td>\n",
       "      <td>1</td>\n",
       "      <td>15</td>\n",
       "      <td>15.00</td>\n",
       "    </tr>\n",
       "    <tr>\n",
       "      <th>13</th>\n",
       "      <td>2021-11</td>\n",
       "      <td>+86 13* **** *929</td>\n",
       "      <td>2</td>\n",
       "      <td>15</td>\n",
       "      <td>7.50</td>\n",
       "    </tr>\n",
       "    <tr>\n",
       "      <th>14</th>\n",
       "      <td>2021-11</td>\n",
       "      <td>Ja**y</td>\n",
       "      <td>2</td>\n",
       "      <td>28</td>\n",
       "      <td>14.00</td>\n",
       "    </tr>\n",
       "    <tr>\n",
       "      <th>15</th>\n",
       "      <td>2021-11</td>\n",
       "      <td>Wi**</td>\n",
       "      <td>4</td>\n",
       "      <td>54</td>\n",
       "      <td>13.50</td>\n",
       "    </tr>\n",
       "    <tr>\n",
       "      <th>16</th>\n",
       "      <td>2021-12</td>\n",
       "      <td>+61 41* *** *24</td>\n",
       "      <td>6</td>\n",
       "      <td>71</td>\n",
       "      <td>11.83</td>\n",
       "    </tr>\n",
       "    <tr>\n",
       "      <th>17</th>\n",
       "      <td>2021-12</td>\n",
       "      <td>+852 90** **85</td>\n",
       "      <td>25</td>\n",
       "      <td>260</td>\n",
       "      <td>10.40</td>\n",
       "    </tr>\n",
       "    <tr>\n",
       "      <th>18</th>\n",
       "      <td>2021-12</td>\n",
       "      <td>+852 91** **44</td>\n",
       "      <td>4</td>\n",
       "      <td>47</td>\n",
       "      <td>11.75</td>\n",
       "    </tr>\n",
       "    <tr>\n",
       "      <th>19</th>\n",
       "      <td>2021-12</td>\n",
       "      <td>+852 98** **07</td>\n",
       "      <td>5</td>\n",
       "      <td>45</td>\n",
       "      <td>9.00</td>\n",
       "    </tr>\n",
       "    <tr>\n",
       "      <th>20</th>\n",
       "      <td>2021-12</td>\n",
       "      <td>+86 13* **** *929</td>\n",
       "      <td>6</td>\n",
       "      <td>40</td>\n",
       "      <td>6.67</td>\n",
       "    </tr>\n",
       "    <tr>\n",
       "      <th>21</th>\n",
       "      <td>2021-12</td>\n",
       "      <td>Emi**** **de</td>\n",
       "      <td>1</td>\n",
       "      <td>19</td>\n",
       "      <td>19.00</td>\n",
       "    </tr>\n",
       "    <tr>\n",
       "      <th>22</th>\n",
       "      <td>2021-12</td>\n",
       "      <td>Ja**y</td>\n",
       "      <td>9</td>\n",
       "      <td>131</td>\n",
       "      <td>14.56</td>\n",
       "    </tr>\n",
       "    <tr>\n",
       "      <th>23</th>\n",
       "      <td>2021-12</td>\n",
       "      <td>Mum</td>\n",
       "      <td>4</td>\n",
       "      <td>43</td>\n",
       "      <td>10.75</td>\n",
       "    </tr>\n",
       "    <tr>\n",
       "      <th>24</th>\n",
       "      <td>2021-12</td>\n",
       "      <td>Wi**</td>\n",
       "      <td>12</td>\n",
       "      <td>344</td>\n",
       "      <td>28.67</td>\n",
       "    </tr>\n",
       "    <tr>\n",
       "      <th>25</th>\n",
       "      <td>2022-01</td>\n",
       "      <td>+61 41* *** *24</td>\n",
       "      <td>3</td>\n",
       "      <td>67</td>\n",
       "      <td>22.33</td>\n",
       "    </tr>\n",
       "    <tr>\n",
       "      <th>26</th>\n",
       "      <td>2022-01</td>\n",
       "      <td>+852 90** **85</td>\n",
       "      <td>14</td>\n",
       "      <td>166</td>\n",
       "      <td>11.86</td>\n",
       "    </tr>\n",
       "    <tr>\n",
       "      <th>27</th>\n",
       "      <td>2022-01</td>\n",
       "      <td>+852 91** **44</td>\n",
       "      <td>1</td>\n",
       "      <td>10</td>\n",
       "      <td>10.00</td>\n",
       "    </tr>\n",
       "    <tr>\n",
       "      <th>28</th>\n",
       "      <td>2022-01</td>\n",
       "      <td>+852 93** **27</td>\n",
       "      <td>16</td>\n",
       "      <td>4770</td>\n",
       "      <td>298.12</td>\n",
       "    </tr>\n",
       "    <tr>\n",
       "      <th>29</th>\n",
       "      <td>2022-01</td>\n",
       "      <td>+852 98** **07</td>\n",
       "      <td>1</td>\n",
       "      <td>6</td>\n",
       "      <td>6.00</td>\n",
       "    </tr>\n",
       "    <tr>\n",
       "      <th>30</th>\n",
       "      <td>2022-01</td>\n",
       "      <td>+86 13* **** *929</td>\n",
       "      <td>11</td>\n",
       "      <td>77</td>\n",
       "      <td>7.00</td>\n",
       "    </tr>\n",
       "    <tr>\n",
       "      <th>31</th>\n",
       "      <td>2022-01</td>\n",
       "      <td>Ja**y</td>\n",
       "      <td>6</td>\n",
       "      <td>43</td>\n",
       "      <td>7.17</td>\n",
       "    </tr>\n",
       "    <tr>\n",
       "      <th>32</th>\n",
       "      <td>2022-01</td>\n",
       "      <td>Mum</td>\n",
       "      <td>14</td>\n",
       "      <td>104</td>\n",
       "      <td>7.43</td>\n",
       "    </tr>\n",
       "    <tr>\n",
       "      <th>33</th>\n",
       "      <td>2022-01</td>\n",
       "      <td>Wi**</td>\n",
       "      <td>10</td>\n",
       "      <td>170</td>\n",
       "      <td>17.00</td>\n",
       "    </tr>\n",
       "    <tr>\n",
       "      <th>34</th>\n",
       "      <td>2022-02</td>\n",
       "      <td>+61 41* *** *24</td>\n",
       "      <td>7</td>\n",
       "      <td>148</td>\n",
       "      <td>21.14</td>\n",
       "    </tr>\n",
       "    <tr>\n",
       "      <th>35</th>\n",
       "      <td>2022-02</td>\n",
       "      <td>+852 90** **85</td>\n",
       "      <td>17</td>\n",
       "      <td>270</td>\n",
       "      <td>15.88</td>\n",
       "    </tr>\n",
       "    <tr>\n",
       "      <th>36</th>\n",
       "      <td>2022-02</td>\n",
       "      <td>+852 91** **44</td>\n",
       "      <td>5</td>\n",
       "      <td>321</td>\n",
       "      <td>64.20</td>\n",
       "    </tr>\n",
       "    <tr>\n",
       "      <th>37</th>\n",
       "      <td>2022-02</td>\n",
       "      <td>+852 93** **27</td>\n",
       "      <td>29</td>\n",
       "      <td>13114</td>\n",
       "      <td>452.21</td>\n",
       "    </tr>\n",
       "    <tr>\n",
       "      <th>38</th>\n",
       "      <td>2022-02</td>\n",
       "      <td>+852 98** **07</td>\n",
       "      <td>2</td>\n",
       "      <td>14</td>\n",
       "      <td>7.00</td>\n",
       "    </tr>\n",
       "    <tr>\n",
       "      <th>39</th>\n",
       "      <td>2022-02</td>\n",
       "      <td>+86 13* **** *929</td>\n",
       "      <td>38</td>\n",
       "      <td>329</td>\n",
       "      <td>8.66</td>\n",
       "    </tr>\n",
       "    <tr>\n",
       "      <th>40</th>\n",
       "      <td>2022-02</td>\n",
       "      <td>Emi**** **de</td>\n",
       "      <td>2</td>\n",
       "      <td>13</td>\n",
       "      <td>6.50</td>\n",
       "    </tr>\n",
       "    <tr>\n",
       "      <th>41</th>\n",
       "      <td>2022-02</td>\n",
       "      <td>Ja**y</td>\n",
       "      <td>7</td>\n",
       "      <td>38</td>\n",
       "      <td>5.43</td>\n",
       "    </tr>\n",
       "    <tr>\n",
       "      <th>42</th>\n",
       "      <td>2022-02</td>\n",
       "      <td>Mum</td>\n",
       "      <td>28</td>\n",
       "      <td>326</td>\n",
       "      <td>11.64</td>\n",
       "    </tr>\n",
       "    <tr>\n",
       "      <th>43</th>\n",
       "      <td>2022-02</td>\n",
       "      <td>Wi**</td>\n",
       "      <td>14</td>\n",
       "      <td>220</td>\n",
       "      <td>15.71</td>\n",
       "    </tr>\n",
       "    <tr>\n",
       "      <th>44</th>\n",
       "      <td>2022-03</td>\n",
       "      <td>+852 93** **27</td>\n",
       "      <td>5</td>\n",
       "      <td>774</td>\n",
       "      <td>154.80</td>\n",
       "    </tr>\n",
       "    <tr>\n",
       "      <th>45</th>\n",
       "      <td>2022-03</td>\n",
       "      <td>+86 13* **** *929</td>\n",
       "      <td>2</td>\n",
       "      <td>14</td>\n",
       "      <td>7.00</td>\n",
       "    </tr>\n",
       "    <tr>\n",
       "      <th>46</th>\n",
       "      <td>2022-03</td>\n",
       "      <td>Emi**** **de left</td>\n",
       "      <td>1</td>\n",
       "      <td>2</td>\n",
       "      <td>2.00</td>\n",
       "    </tr>\n",
       "    <tr>\n",
       "      <th>47</th>\n",
       "      <td>2022-03</td>\n",
       "      <td>Mum</td>\n",
       "      <td>1</td>\n",
       "      <td>20</td>\n",
       "      <td>20.00</td>\n",
       "    </tr>\n",
       "  </tbody>\n",
       "</table>\n",
       "</div>"
      ],
      "text/plain": [
       "      Month           Username  Message count  Message length (Words)  \\\n",
       "0   2021-10    +61 41* *** *24              8                      68   \n",
       "1   2021-10     +852 90** **85              3                      65   \n",
       "2   2021-10     +852 91** **44              2                      36   \n",
       "3   2021-10     +852 98** **07              8                     100   \n",
       "4   2021-10  +86 13* **** *929              4                      42   \n",
       "5   2021-10              Ja**y              4                      50   \n",
       "6   2021-10                Mum              1                       8   \n",
       "7   2021-10               Wi**              2                      55   \n",
       "8   2021-11    +61 41* *** *24              4                      44   \n",
       "9   2021-11     +852 90** **85              1                      11   \n",
       "10  2021-11     +852 91** **44              1                      26   \n",
       "11  2021-11     +852 93** **27              5                      33   \n",
       "12  2021-11     +852 98** **07              1                      15   \n",
       "13  2021-11  +86 13* **** *929              2                      15   \n",
       "14  2021-11              Ja**y              2                      28   \n",
       "15  2021-11               Wi**              4                      54   \n",
       "16  2021-12    +61 41* *** *24              6                      71   \n",
       "17  2021-12     +852 90** **85             25                     260   \n",
       "18  2021-12     +852 91** **44              4                      47   \n",
       "19  2021-12     +852 98** **07              5                      45   \n",
       "20  2021-12  +86 13* **** *929              6                      40   \n",
       "21  2021-12       Emi**** **de              1                      19   \n",
       "22  2021-12              Ja**y              9                     131   \n",
       "23  2021-12                Mum              4                      43   \n",
       "24  2021-12               Wi**             12                     344   \n",
       "25  2022-01    +61 41* *** *24              3                      67   \n",
       "26  2022-01     +852 90** **85             14                     166   \n",
       "27  2022-01     +852 91** **44              1                      10   \n",
       "28  2022-01     +852 93** **27             16                    4770   \n",
       "29  2022-01     +852 98** **07              1                       6   \n",
       "30  2022-01  +86 13* **** *929             11                      77   \n",
       "31  2022-01              Ja**y              6                      43   \n",
       "32  2022-01                Mum             14                     104   \n",
       "33  2022-01               Wi**             10                     170   \n",
       "34  2022-02    +61 41* *** *24              7                     148   \n",
       "35  2022-02     +852 90** **85             17                     270   \n",
       "36  2022-02     +852 91** **44              5                     321   \n",
       "37  2022-02     +852 93** **27             29                   13114   \n",
       "38  2022-02     +852 98** **07              2                      14   \n",
       "39  2022-02  +86 13* **** *929             38                     329   \n",
       "40  2022-02       Emi**** **de              2                      13   \n",
       "41  2022-02              Ja**y              7                      38   \n",
       "42  2022-02                Mum             28                     326   \n",
       "43  2022-02               Wi**             14                     220   \n",
       "44  2022-03     +852 93** **27              5                     774   \n",
       "45  2022-03  +86 13* **** *929              2                      14   \n",
       "46  2022-03  Emi**** **de left              1                       2   \n",
       "47  2022-03                Mum              1                      20   \n",
       "\n",
       "    Average words per message  \n",
       "0                        8.50  \n",
       "1                       21.67  \n",
       "2                       18.00  \n",
       "3                       12.50  \n",
       "4                       10.50  \n",
       "5                       12.50  \n",
       "6                        8.00  \n",
       "7                       27.50  \n",
       "8                       11.00  \n",
       "9                       11.00  \n",
       "10                      26.00  \n",
       "11                       6.60  \n",
       "12                      15.00  \n",
       "13                       7.50  \n",
       "14                      14.00  \n",
       "15                      13.50  \n",
       "16                      11.83  \n",
       "17                      10.40  \n",
       "18                      11.75  \n",
       "19                       9.00  \n",
       "20                       6.67  \n",
       "21                      19.00  \n",
       "22                      14.56  \n",
       "23                      10.75  \n",
       "24                      28.67  \n",
       "25                      22.33  \n",
       "26                      11.86  \n",
       "27                      10.00  \n",
       "28                     298.12  \n",
       "29                       6.00  \n",
       "30                       7.00  \n",
       "31                       7.17  \n",
       "32                       7.43  \n",
       "33                      17.00  \n",
       "34                      21.14  \n",
       "35                      15.88  \n",
       "36                      64.20  \n",
       "37                     452.21  \n",
       "38                       7.00  \n",
       "39                       8.66  \n",
       "40                       6.50  \n",
       "41                       5.43  \n",
       "42                      11.64  \n",
       "43                      15.71  \n",
       "44                     154.80  \n",
       "45                       7.00  \n",
       "46                       2.00  \n",
       "47                      20.00  "
      ]
     },
     "execution_count": 62,
     "metadata": {},
     "output_type": "execute_result"
    }
   ],
   "source": [
    "month_msg_count_length"
   ]
  },
  {
   "cell_type": "code",
   "execution_count": 63,
   "metadata": {},
   "outputs": [
    {
     "data": {
      "text/html": [
       "<div>\n",
       "<style scoped>\n",
       "    .dataframe tbody tr th:only-of-type {\n",
       "        vertical-align: middle;\n",
       "    }\n",
       "\n",
       "    .dataframe tbody tr th {\n",
       "        vertical-align: top;\n",
       "    }\n",
       "\n",
       "    .dataframe thead th {\n",
       "        text-align: right;\n",
       "    }\n",
       "</style>\n",
       "<table border=\"1\" class=\"dataframe\">\n",
       "  <thead>\n",
       "    <tr style=\"text-align: right;\">\n",
       "      <th></th>\n",
       "      <th>Message count</th>\n",
       "      <th>Message length (Words)</th>\n",
       "      <th>Average words per message</th>\n",
       "    </tr>\n",
       "  </thead>\n",
       "  <tbody>\n",
       "    <tr>\n",
       "      <th>Message count</th>\n",
       "      <td>1.000000</td>\n",
       "      <td>0.450588</td>\n",
       "      <td>0.376712</td>\n",
       "    </tr>\n",
       "    <tr>\n",
       "      <th>Message length (Words)</th>\n",
       "      <td>0.450588</td>\n",
       "      <td>1.000000</td>\n",
       "      <td>0.944491</td>\n",
       "    </tr>\n",
       "    <tr>\n",
       "      <th>Average words per message</th>\n",
       "      <td>0.376712</td>\n",
       "      <td>0.944491</td>\n",
       "      <td>1.000000</td>\n",
       "    </tr>\n",
       "  </tbody>\n",
       "</table>\n",
       "</div>"
      ],
      "text/plain": [
       "                           Message count  Message length (Words)  \\\n",
       "Message count                   1.000000                0.450588   \n",
       "Message length (Words)          0.450588                1.000000   \n",
       "Average words per message       0.376712                0.944491   \n",
       "\n",
       "                           Average words per message  \n",
       "Message count                               0.376712  \n",
       "Message length (Words)                      0.944491  \n",
       "Average words per message                   1.000000  "
      ]
     },
     "execution_count": 63,
     "metadata": {},
     "output_type": "execute_result"
    }
   ],
   "source": [
    "month_msg_count_length.corr()"
   ]
  },
  {
   "cell_type": "code",
   "execution_count": 64,
   "metadata": {},
   "outputs": [
    {
     "data": {
      "text/html": [
       "<div>\n",
       "<style scoped>\n",
       "    .dataframe tbody tr th:only-of-type {\n",
       "        vertical-align: middle;\n",
       "    }\n",
       "\n",
       "    .dataframe tbody tr th {\n",
       "        vertical-align: top;\n",
       "    }\n",
       "\n",
       "    .dataframe thead th {\n",
       "        text-align: right;\n",
       "    }\n",
       "</style>\n",
       "<table border=\"1\" class=\"dataframe\">\n",
       "  <thead>\n",
       "    <tr style=\"text-align: right;\">\n",
       "      <th></th>\n",
       "      <th>Message count</th>\n",
       "      <th>Message length (Words)</th>\n",
       "      <th>Average words per message</th>\n",
       "    </tr>\n",
       "  </thead>\n",
       "  <tbody>\n",
       "    <tr>\n",
       "      <th>count</th>\n",
       "      <td>48.000000</td>\n",
       "      <td>48.000000</td>\n",
       "      <td>48.000000</td>\n",
       "    </tr>\n",
       "    <tr>\n",
       "      <th>mean</th>\n",
       "      <td>7.458333</td>\n",
       "      <td>472.208333</td>\n",
       "      <td>31.780833</td>\n",
       "    </tr>\n",
       "    <tr>\n",
       "      <th>std</th>\n",
       "      <td>8.235776</td>\n",
       "      <td>1986.231307</td>\n",
       "      <td>77.415040</td>\n",
       "    </tr>\n",
       "    <tr>\n",
       "      <th>min</th>\n",
       "      <td>1.000000</td>\n",
       "      <td>2.000000</td>\n",
       "      <td>2.000000</td>\n",
       "    </tr>\n",
       "    <tr>\n",
       "      <th>25%</th>\n",
       "      <td>2.000000</td>\n",
       "      <td>24.500000</td>\n",
       "      <td>7.875000</td>\n",
       "    </tr>\n",
       "    <tr>\n",
       "      <th>50%</th>\n",
       "      <td>4.500000</td>\n",
       "      <td>48.500000</td>\n",
       "      <td>11.790000</td>\n",
       "    </tr>\n",
       "    <tr>\n",
       "      <th>75%</th>\n",
       "      <td>9.250000</td>\n",
       "      <td>152.500000</td>\n",
       "      <td>18.250000</td>\n",
       "    </tr>\n",
       "    <tr>\n",
       "      <th>max</th>\n",
       "      <td>38.000000</td>\n",
       "      <td>13114.000000</td>\n",
       "      <td>452.210000</td>\n",
       "    </tr>\n",
       "  </tbody>\n",
       "</table>\n",
       "</div>"
      ],
      "text/plain": [
       "       Message count  Message length (Words)  Average words per message\n",
       "count      48.000000               48.000000                  48.000000\n",
       "mean        7.458333              472.208333                  31.780833\n",
       "std         8.235776             1986.231307                  77.415040\n",
       "min         1.000000                2.000000                   2.000000\n",
       "25%         2.000000               24.500000                   7.875000\n",
       "50%         4.500000               48.500000                  11.790000\n",
       "75%         9.250000              152.500000                  18.250000\n",
       "max        38.000000            13114.000000                 452.210000"
      ]
     },
     "execution_count": 64,
     "metadata": {},
     "output_type": "execute_result"
    }
   ],
   "source": [
    "month_msg_count_length.describe()"
   ]
  },
  {
   "cell_type": "code",
   "execution_count": 65,
   "metadata": {},
   "outputs": [
    {
     "data": {
      "image/png": "[encoded data removed]",
      "text/plain": [
       "<Figure size 640x320 with 1 Axes>"
      ]
     },
     "metadata": {
      "needs_background": "light"
     },
     "output_type": "display_data"
    }
   ],
   "source": [
    "# Visualise the correlations on scatter plot\n",
    "plt.figure(figsize=(8,4),dpi=80)\n",
    "plt.scatter(month_msg_count_length['Message count'],month_msg_count_length['Message length (Words)'])\n",
    "plt.title('Message length (Words) VS Message count')\n",
    "plt.xlabel('Message count')\n",
    "plt.ylabel('Message length (Words)')\n",
    "plt.show()"
   ]
  },
  {
   "cell_type": "code",
   "execution_count": 66,
   "metadata": {},
   "outputs": [
    {
     "data": {
      "image/png": "[encoded data removed]",
      "text/plain": [
       "<Figure size 640x320 with 1 Axes>"
      ]
     },
     "metadata": {
      "needs_background": "light"
     },
     "output_type": "display_data"
    }
   ],
   "source": [
    "plt.figure(figsize=(8,4),dpi=80)\n",
    "plt.scatter(month_msg_count_length['Message count'],month_msg_count_length['Average words per message'])\n",
    "plt.title('Average words per message VS Message count')\n",
    "plt.xlabel('Message count')\n",
    "plt.ylabel('Average words per message')\n",
    "plt.show()"
   ]
  },
  {
   "cell_type": "markdown",
   "metadata": {},
   "source": [
    "#### From the correlation analysis, we can see that \n",
    "#### - there is an expected high correlation between \"Average words per message\" & \"Message length (words)\", the calculation of the former is obviously relational to the latter. (a message containing more words will have a higher average per message.)\n",
    "#### - there is no direct correlation between \"Message count\" & \"Message length\", which indicated that, users who were frequent sender (e.g. +86 13. .... .929) could tend to send short messages (possibly emojis & \"good morning\"s),  in contrast, other users (e.g. +852 93.. ..27) preferred to send long messages."
   ]
  },
  {
   "cell_type": "markdown",
   "metadata": {},
   "source": [
    "#### 4.3.4 Find correlation between common keywords & top 20% rank"
   ]
  },
  {
   "cell_type": "code",
   "execution_count": 67,
   "metadata": {},
   "outputs": [
    {
     "data": {
      "text/html": [
       "<div>\n",
       "<style scoped>\n",
       "    .dataframe tbody tr th:only-of-type {\n",
       "        vertical-align: middle;\n",
       "    }\n",
       "\n",
       "    .dataframe tbody tr th {\n",
       "        vertical-align: top;\n",
       "    }\n",
       "\n",
       "    .dataframe thead th {\n",
       "        text-align: right;\n",
       "    }\n",
       "</style>\n",
       "<table border=\"1\" class=\"dataframe\">\n",
       "  <thead>\n",
       "    <tr style=\"text-align: right;\">\n",
       "      <th></th>\n",
       "      <th>Month</th>\n",
       "      <th>Username</th>\n",
       "      <th>Message count</th>\n",
       "      <th>Message length (Words)</th>\n",
       "      <th>Average words per message</th>\n",
       "    </tr>\n",
       "  </thead>\n",
       "  <tbody>\n",
       "    <tr>\n",
       "      <th>37</th>\n",
       "      <td>2022-02</td>\n",
       "      <td>+852 93** **27</td>\n",
       "      <td>29</td>\n",
       "      <td>13114</td>\n",
       "      <td>452.21</td>\n",
       "    </tr>\n",
       "    <tr>\n",
       "      <th>28</th>\n",
       "      <td>2022-01</td>\n",
       "      <td>+852 93** **27</td>\n",
       "      <td>16</td>\n",
       "      <td>4770</td>\n",
       "      <td>298.12</td>\n",
       "    </tr>\n",
       "    <tr>\n",
       "      <th>44</th>\n",
       "      <td>2022-03</td>\n",
       "      <td>+852 93** **27</td>\n",
       "      <td>5</td>\n",
       "      <td>774</td>\n",
       "      <td>154.80</td>\n",
       "    </tr>\n",
       "    <tr>\n",
       "      <th>36</th>\n",
       "      <td>2022-02</td>\n",
       "      <td>+852 91** **44</td>\n",
       "      <td>5</td>\n",
       "      <td>321</td>\n",
       "      <td>64.20</td>\n",
       "    </tr>\n",
       "    <tr>\n",
       "      <th>24</th>\n",
       "      <td>2021-12</td>\n",
       "      <td>Wi**</td>\n",
       "      <td>12</td>\n",
       "      <td>344</td>\n",
       "      <td>28.67</td>\n",
       "    </tr>\n",
       "    <tr>\n",
       "      <th>7</th>\n",
       "      <td>2021-10</td>\n",
       "      <td>Wi**</td>\n",
       "      <td>2</td>\n",
       "      <td>55</td>\n",
       "      <td>27.50</td>\n",
       "    </tr>\n",
       "    <tr>\n",
       "      <th>10</th>\n",
       "      <td>2021-11</td>\n",
       "      <td>+852 91** **44</td>\n",
       "      <td>1</td>\n",
       "      <td>26</td>\n",
       "      <td>26.00</td>\n",
       "    </tr>\n",
       "    <tr>\n",
       "      <th>25</th>\n",
       "      <td>2022-01</td>\n",
       "      <td>+61 41* *** *24</td>\n",
       "      <td>3</td>\n",
       "      <td>67</td>\n",
       "      <td>22.33</td>\n",
       "    </tr>\n",
       "    <tr>\n",
       "      <th>1</th>\n",
       "      <td>2021-10</td>\n",
       "      <td>+852 90** **85</td>\n",
       "      <td>3</td>\n",
       "      <td>65</td>\n",
       "      <td>21.67</td>\n",
       "    </tr>\n",
       "    <tr>\n",
       "      <th>34</th>\n",
       "      <td>2022-02</td>\n",
       "      <td>+61 41* *** *24</td>\n",
       "      <td>7</td>\n",
       "      <td>148</td>\n",
       "      <td>21.14</td>\n",
       "    </tr>\n",
       "  </tbody>\n",
       "</table>\n",
       "</div>"
      ],
      "text/plain": [
       "      Month         Username  Message count  Message length (Words)  \\\n",
       "37  2022-02   +852 93** **27             29                   13114   \n",
       "28  2022-01   +852 93** **27             16                    4770   \n",
       "44  2022-03   +852 93** **27              5                     774   \n",
       "36  2022-02   +852 91** **44              5                     321   \n",
       "24  2021-12             Wi**             12                     344   \n",
       "7   2021-10             Wi**              2                      55   \n",
       "10  2021-11   +852 91** **44              1                      26   \n",
       "25  2022-01  +61 41* *** *24              3                      67   \n",
       "1   2021-10   +852 90** **85              3                      65   \n",
       "34  2022-02  +61 41* *** *24              7                     148   \n",
       "\n",
       "    Average words per message  \n",
       "37                     452.21  \n",
       "28                     298.12  \n",
       "44                     154.80  \n",
       "36                      64.20  \n",
       "24                      28.67  \n",
       "7                       27.50  \n",
       "10                      26.00  \n",
       "25                      22.33  \n",
       "1                       21.67  \n",
       "34                      21.14  "
      ]
     },
     "execution_count": 67,
     "metadata": {},
     "output_type": "execute_result"
    }
   ],
   "source": [
    "# based on '80/20 rule'(or 'Pareto Principle'), check top 20% Average words per message\n",
    "top_pct=0.2\n",
    "top_num=int(round(month_msg_count_length.shape[0]*top_pct,0))\n",
    "month_msg_count_length.nlargest(top_num,'Average words per message')"
   ]
  },
  {
   "cell_type": "markdown",
   "metadata": {},
   "source": [
    "#### Even though user +852 93** **27 has overwhemingly occupied the top 3 ranks, we will still examine as many as users as possible, specifically for percentages of their selected messages have contained the common keywords.\n",
    "#### therefore,\n",
    "#### - 2022-02\t+852 93** **27\n",
    "#### - 2022-02\t+852 91** **44\n",
    "#### - 2021-12\tWi**\n",
    "#### - 2022-01\t+61 41* *** *24\n",
    "#### - 2021-10\t+852 90** **85"
   ]
  },
  {
   "cell_type": "code",
   "execution_count": 68,
   "metadata": {},
   "outputs": [],
   "source": [
    "# create new DataFrames for all 5 ranks\n",
    "kw_list1=['靈修', '邦聞', 'youtu.be', '@', '🙏', '2022'] # '@' represents media/files, refer to replacement in earlier stages\n",
    "kw_list1_combined= '|'.join(kw_list1)\n",
    "\n",
    "# 2022-02　+852 93** **27\n",
    "df_2022_02_93_27=df_chat1[(df_chat1['Username']=='+852 93** **27')&(df_chat1['Month']=='2022-02')]\n",
    "df_2022_02_93_27_isin_kw=df_2022_02_93_27[df_2022_02_93_27['Message Content'].str.contains(kw_list1_combined)]\n",
    "\n",
    "# 2022-02　+852 91** **44\n",
    "df_2022_02_91_44=df_chat1[(df_chat1['Username']=='+852 91** **44')&(df_chat1['Month']=='2022-02')]\n",
    "df_2022_02_91_44_isin_kw=df_2022_02_91_44[df_2022_02_91_44['Message Content'].str.contains(kw_list1_combined)]\n",
    "\n",
    "# 2021-12　Wi**\n",
    "df_2021_12_Wi=df_chat1[(df_chat1['Username']=='Wi**')&(df_chat1['Month']=='2021-12')]\n",
    "df_2021_12_Wi_isin_kw=df_2021_12_Wi[df_2021_12_Wi['Message Content'].str.contains(kw_list1_combined)]\n",
    "\n",
    "# 2022-01 +61 41* *** *24\n",
    "df_2022_01_41_24=df_chat1[(df_chat1['Username']=='+61 41* *** *24')&(df_chat1['Month']=='2022-01')]\n",
    "df_2022_01_41_24_isin_kw=df_2022_01_41_24[df_2022_01_41_24['Message Content'].str.contains(kw_list1_combined)]\n",
    "\n",
    "# 2021-10　+852 90** **85\n",
    "df_2021_10_90_85=df_chat1[(df_chat1['Username']=='+852 90** **85')&(df_chat1['Month']=='2021-10')]\n",
    "df_2021_10_90_85_isin_kw=df_2021_10_90_85[df_2021_10_90_85['Message Content'].str.contains(kw_list1_combined)]"
   ]
  },
  {
   "cell_type": "code",
   "execution_count": 69,
   "metadata": {},
   "outputs": [
    {
     "name": "stdout",
     "output_type": "stream",
     "text": [
      "In 2022-02, 100.0 % of message sent by user +852 93** **27 contained 1 of the most common keywords.\n",
      "In 2022-02, 40.0 % of message sent by user +852 91** **44 contained 1 of the most common keywords.\n",
      "In 2021-12, 41.67 % of message sent by user Wi** contained 1 of the most common keywords.\n",
      "In 2022-01, 33.33 % of message sent by user +61 41* *** *24 contained 1 of the most common keywords.\n",
      "In 2021-10, 0.0 % of message sent by user +852 90** **85 contained 1 of the most common keywords.\n"
     ]
    }
   ],
   "source": [
    "# show percentages of their selected messages have contained the common keywords.\n",
    "print(f'In 2022-02, {round(df_2022_02_93_27_isin_kw.shape[0]/df_2022_02_93_27.shape[0]*100,2)} % of message sent by user +852 93** **27 contained 1 of the most common keywords.')\n",
    "print(f'In 2022-02, {round(df_2022_02_91_44_isin_kw.shape[0]/df_2022_02_91_44.shape[0]*100,2)} % of message sent by user +852 91** **44 contained 1 of the most common keywords.')\n",
    "print(f'In 2021-12, {round(df_2021_12_Wi_isin_kw.shape[0]/df_2021_12_Wi.shape[0]*100,2)} % of message sent by user Wi** contained 1 of the most common keywords.')\n",
    "print(f'In 2022-01, {round(df_2022_01_41_24_isin_kw.shape[0]/df_2022_01_41_24.shape[0]*100,2)} % of message sent by user +61 41* *** *24 contained 1 of the most common keywords.')\n",
    "print(f'In 2021-10, {round(df_2021_10_90_85_isin_kw.shape[0]/df_2021_10_90_85.shape[0]*100,2)} % of message sent by user +852 90** **85 contained 1 of the most common keywords.')"
   ]
  }
 ],
 "metadata": {
  "kernelspec": {
   "display_name": "Python 3",
   "language": "python",
   "name": "python3"
  },
  "language_info": {
   "codemirror_mode": {
    "name": "ipython",
    "version": 3
   },
   "file_extension": ".py",
   "mimetype": "text/x-python",
   "name": "python",
   "nbconvert_exporter": "python",
   "pygments_lexer": "ipython3",
   "version": "3.8.5"
  }
 },
 "nbformat": 4,
 "nbformat_minor": 4
}
